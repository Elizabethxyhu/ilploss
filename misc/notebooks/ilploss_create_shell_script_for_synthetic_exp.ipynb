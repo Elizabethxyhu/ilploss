{
 "cells": [
  {
   "cell_type": "code",
   "execution_count": 1,
   "id": "d2b1c33d",
   "metadata": {},
   "outputs": [
    {
     "name": "stdout",
     "output_type": "stream",
     "text": [
      "/home/yatin/softlinks/hpchome/phd/comboptnet/neurips_sudoku\n"
     ]
    }
   ],
   "source": [
    "cd ../.."
   ]
  },
  {
   "cell_type": "code",
   "execution_count": 2,
   "id": "d114b72b",
   "metadata": {},
   "outputs": [],
   "source": [
    "import yaml\n",
    "import os\n",
    "import glob\n",
    "import copy"
   ]
  },
  {
   "cell_type": "code",
   "execution_count": 3,
   "id": "82839f73",
   "metadata": {},
   "outputs": [],
   "source": [
    "\n",
    "# base_conf_dir = 'conf/neurips/binary_random/ilploss'\n",
    "# base_run_dir = 'runs/neurips/binary_random/ilploss'\n",
    "# to_file = 'BINARY_RANDOM_CONSTRAINTS.sh'\n",
    "# to_test_file = 'BINARY_RANDOM_CONSTRAINTS_TEST.sh'\n",
    "\n",
    "base_conf_dir = 'conf/neurips/dense_random/ilploss'\n",
    "base_run_dir = 'runs/neurips/dense_random/ilploss'\n",
    "to_file = 'DENSE_RANDOM_CONSTRAINTS.sh'\n",
    "to_test_file = 'DENSE_RANDOM_CONSTRAINTS_TEST.sh'"
   ]
  },
  {
   "cell_type": "code",
   "execution_count": 4,
   "id": "45a92480",
   "metadata": {},
   "outputs": [],
   "source": [
    "cmd = 'python trainer.py --config {}\\n'\n",
    "cmd_test = 'python trainer.py --config {} --model_path {}\\n'\n"
   ]
  },
  {
   "cell_type": "code",
   "execution_count": 5,
   "id": "d96c2aec",
   "metadata": {},
   "outputs": [],
   "source": [
    "all_files = []\n",
    "for this_file in glob.glob(os.path.join(base_conf_dir,'*','*.yaml'), recursive=False):\n",
    "    all_files.append(this_file)\n"
   ]
  },
  {
   "cell_type": "code",
   "execution_count": 6,
   "id": "82572b9a",
   "metadata": {},
   "outputs": [],
   "source": [
    "all_files.sort()"
   ]
  },
  {
   "cell_type": "code",
   "execution_count": 7,
   "id": "fd162afe",
   "metadata": {},
   "outputs": [
    {
     "data": {
      "text/plain": [
       "40"
      ]
     },
     "execution_count": 7,
     "metadata": {},
     "output_type": "execute_result"
    }
   ],
   "source": [
    "len(all_files)"
   ]
  },
  {
   "cell_type": "code",
   "execution_count": 8,
   "id": "4029a5d7",
   "metadata": {},
   "outputs": [],
   "source": [
    "all_commands = []\n",
    "for this_file in all_files:\n",
    "    all_commands.append(cmd.format(this_file))\n",
    "    "
   ]
  },
  {
   "cell_type": "code",
   "execution_count": 9,
   "id": "0a6ebbf9",
   "metadata": {},
   "outputs": [],
   "source": [
    "with open(to_file,'w') as fh:\n",
    "    fh.writelines(all_commands)"
   ]
  },
  {
   "cell_type": "code",
   "execution_count": 10,
   "id": "f67f0795",
   "metadata": {},
   "outputs": [],
   "source": [
    "all_test_files = []\n",
    "for this_file in glob.glob(os.path.join(base_conf_dir,'test','*','*.yaml'), recursive=False):\n",
    "    all_test_files.append(this_file)\n",
    "    "
   ]
  },
  {
   "cell_type": "code",
   "execution_count": 11,
   "id": "ca8a189a",
   "metadata": {},
   "outputs": [],
   "source": [
    "all_test_files.sort()"
   ]
  },
  {
   "cell_type": "code",
   "execution_count": 12,
   "id": "3b4d0a30",
   "metadata": {},
   "outputs": [],
   "source": [
    "all_test_commands = []"
   ]
  },
  {
   "cell_type": "code",
   "execution_count": 13,
   "id": "40bac893",
   "metadata": {},
   "outputs": [],
   "source": [
    "for this_test_file in all_test_files:\n",
    "    info = this_test_file.split('/')[-2:]\n",
    "    info[1] = info[1][:-5]\n",
    "    model_file = os.path.join(base_run_dir,*info,'version_0','checkpoints','best.ckpt')\n",
    "    all_test_commands.append(cmd_test.format(this_test_file, model_file))"
   ]
  },
  {
   "cell_type": "code",
   "execution_count": 14,
   "id": "e06d26a7",
   "metadata": {},
   "outputs": [
    {
     "data": {
      "text/plain": [
       "'python trainer.py --config conf/neurips/dense_random/ilploss/test/1x16/0.yaml --model_path runs/neurips/dense_random/ilploss/1x16/0/version_0/checkpoints/best.ckpt\\n'"
      ]
     },
     "execution_count": 14,
     "metadata": {},
     "output_type": "execute_result"
    }
   ],
   "source": [
    "all_test_commands[0]"
   ]
  },
  {
   "cell_type": "code",
   "execution_count": 15,
   "id": "7011d52f",
   "metadata": {},
   "outputs": [],
   "source": [
    "with open(to_test_file,'w') as fh:\n",
    "    fh.writelines(all_test_commands)"
   ]
  },
  {
   "cell_type": "code",
   "execution_count": null,
   "id": "e8ef2dbf",
   "metadata": {},
   "outputs": [],
   "source": []
  },
  {
   "cell_type": "code",
   "execution_count": null,
   "id": "30b898cc",
   "metadata": {},
   "outputs": [],
   "source": []
  }
 ],
 "metadata": {
  "kernelspec": {
   "display_name": "Python [conda env:ilploss]",
   "language": "python",
   "name": "conda-env-ilploss-py"
  },
  "language_info": {
   "codemirror_mode": {
    "name": "ipython",
    "version": 3
   },
   "file_extension": ".py",
   "mimetype": "text/x-python",
   "name": "python",
   "nbconvert_exporter": "python",
   "pygments_lexer": "ipython3",
   "version": "3.9.12"
  }
 },
 "nbformat": 4,
 "nbformat_minor": 5
}
