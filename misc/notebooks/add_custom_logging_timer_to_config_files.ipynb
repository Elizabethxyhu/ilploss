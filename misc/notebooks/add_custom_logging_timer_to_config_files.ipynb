{
 "cells": [
  {
   "cell_type": "code",
   "execution_count": 1,
   "id": "175ee9c0",
   "metadata": {},
   "outputs": [],
   "source": [
    "import yaml\n",
    "import os\n",
    "import glob\n",
    "import copy\n",
    "\n",
    "#base_conf_dir = '../../conf/neurips/binary_random/ilploss'\n",
    "base_conf_dir = '../../conf/neurips/dense_random/ilploss'\n"
   ]
  },
  {
   "cell_type": "code",
   "execution_count": 2,
   "id": "2aa15d7b",
   "metadata": {},
   "outputs": [],
   "source": [
    "good_sample = '1x16/0.yaml'\n",
    "with open(os.path.join(base_conf_dir,good_sample),'r') as fh:\n",
    "    good_lines = fh.readlines()"
   ]
  },
  {
   "cell_type": "code",
   "execution_count": 3,
   "id": "a87787e5",
   "metadata": {},
   "outputs": [],
   "source": [
    "ind = [i for i,l in enumerate(good_lines) if 'CustomLogging' in l][0]"
   ]
  },
  {
   "cell_type": "code",
   "execution_count": 4,
   "id": "549ede70",
   "metadata": {},
   "outputs": [],
   "source": [
    "to_insert = good_lines[ind:ind+4]"
   ]
  },
  {
   "cell_type": "code",
   "execution_count": 5,
   "id": "64c4d435",
   "metadata": {},
   "outputs": [],
   "source": [
    "before_txt = '- class_path: pytorch_lightning.callbacks.Timer'"
   ]
  },
  {
   "cell_type": "code",
   "execution_count": 6,
   "id": "76f749cd",
   "metadata": {},
   "outputs": [
    {
     "data": {
      "text/plain": [
       "['    - class_path: src.callbacks.CustomLogging\\n',\n",
       " '      init_args:\\n',\n",
       " '        rel_filename: training_stats.json\\n',\n",
       " '        global_filename: results/dense_random.json\\n']"
      ]
     },
     "execution_count": 6,
     "metadata": {},
     "output_type": "execute_result"
    }
   ],
   "source": [
    "to_insert"
   ]
  },
  {
   "cell_type": "code",
   "execution_count": 7,
   "id": "ac43e08e",
   "metadata": {},
   "outputs": [
    {
     "name": "stdout",
     "output_type": "stream",
     "text": [
      "../../conf/neurips/dense_random/ilploss/2x16/9.yaml\n",
      "../../conf/neurips/dense_random/ilploss/2x16/2.yaml\n",
      "../../conf/neurips/dense_random/ilploss/2x16/3.yaml\n",
      "../../conf/neurips/dense_random/ilploss/2x16/5.yaml\n",
      "../../conf/neurips/dense_random/ilploss/2x16/1.yaml\n",
      "../../conf/neurips/dense_random/ilploss/2x16/8.yaml\n",
      "../../conf/neurips/dense_random/ilploss/2x16/7.yaml\n",
      "../../conf/neurips/dense_random/ilploss/2x16/0.yaml\n",
      "../../conf/neurips/dense_random/ilploss/2x16/6.yaml\n",
      "../../conf/neurips/dense_random/ilploss/2x16/4.yaml\n",
      "../../conf/neurips/dense_random/ilploss/1x16/9.yaml\n",
      "../../conf/neurips/dense_random/ilploss/1x16/2.yaml\n",
      "../../conf/neurips/dense_random/ilploss/1x16/3.yaml\n",
      "../../conf/neurips/dense_random/ilploss/1x16/5.yaml\n",
      "../../conf/neurips/dense_random/ilploss/1x16/1.yaml\n",
      "../../conf/neurips/dense_random/ilploss/1x16/8.yaml\n",
      "../../conf/neurips/dense_random/ilploss/1x16/7.yaml\n",
      "../../conf/neurips/dense_random/ilploss/1x16/0.yaml\n",
      "../../conf/neurips/dense_random/ilploss/1x16/6.yaml\n",
      "../../conf/neurips/dense_random/ilploss/1x16/4.yaml\n",
      "../../conf/neurips/dense_random/ilploss/test/2x16/9.yaml\n",
      "../../conf/neurips/dense_random/ilploss/test/2x16/2.yaml\n",
      "../../conf/neurips/dense_random/ilploss/test/2x16/3.yaml\n",
      "../../conf/neurips/dense_random/ilploss/test/2x16/5.yaml\n",
      "../../conf/neurips/dense_random/ilploss/test/2x16/1.yaml\n",
      "../../conf/neurips/dense_random/ilploss/test/2x16/8.yaml\n",
      "../../conf/neurips/dense_random/ilploss/test/2x16/7.yaml\n",
      "../../conf/neurips/dense_random/ilploss/test/2x16/0.yaml\n",
      "../../conf/neurips/dense_random/ilploss/test/2x16/6.yaml\n",
      "../../conf/neurips/dense_random/ilploss/test/2x16/4.yaml\n",
      "../../conf/neurips/dense_random/ilploss/test/1x16/9.yaml\n",
      "../../conf/neurips/dense_random/ilploss/test/1x16/2.yaml\n",
      "../../conf/neurips/dense_random/ilploss/test/1x16/3.yaml\n",
      "../../conf/neurips/dense_random/ilploss/test/1x16/5.yaml\n",
      "../../conf/neurips/dense_random/ilploss/test/1x16/1.yaml\n",
      "../../conf/neurips/dense_random/ilploss/test/1x16/8.yaml\n",
      "../../conf/neurips/dense_random/ilploss/test/1x16/7.yaml\n",
      "../../conf/neurips/dense_random/ilploss/test/1x16/0.yaml\n",
      "../../conf/neurips/dense_random/ilploss/test/1x16/6.yaml\n",
      "../../conf/neurips/dense_random/ilploss/test/1x16/4.yaml\n",
      "../../conf/neurips/dense_random/ilploss/test/4x16/9.yaml\n",
      "../../conf/neurips/dense_random/ilploss/test/4x16/2.yaml\n",
      "../../conf/neurips/dense_random/ilploss/test/4x16/3.yaml\n",
      "../../conf/neurips/dense_random/ilploss/test/4x16/5.yaml\n",
      "../../conf/neurips/dense_random/ilploss/test/4x16/1.yaml\n",
      "../../conf/neurips/dense_random/ilploss/test/4x16/8.yaml\n",
      "../../conf/neurips/dense_random/ilploss/test/4x16/7.yaml\n",
      "../../conf/neurips/dense_random/ilploss/test/4x16/0.yaml\n",
      "../../conf/neurips/dense_random/ilploss/test/4x16/6.yaml\n",
      "../../conf/neurips/dense_random/ilploss/test/4x16/4.yaml\n",
      "../../conf/neurips/dense_random/ilploss/test/8x16/9.yaml\n",
      "../../conf/neurips/dense_random/ilploss/test/8x16/2.yaml\n",
      "../../conf/neurips/dense_random/ilploss/test/8x16/3.yaml\n",
      "../../conf/neurips/dense_random/ilploss/test/8x16/5.yaml\n",
      "../../conf/neurips/dense_random/ilploss/test/8x16/1.yaml\n",
      "../../conf/neurips/dense_random/ilploss/test/8x16/8.yaml\n",
      "../../conf/neurips/dense_random/ilploss/test/8x16/7.yaml\n",
      "../../conf/neurips/dense_random/ilploss/test/8x16/0.yaml\n",
      "../../conf/neurips/dense_random/ilploss/test/8x16/6.yaml\n",
      "../../conf/neurips/dense_random/ilploss/test/8x16/4.yaml\n",
      "../../conf/neurips/dense_random/ilploss/4x16/9.yaml\n",
      "../../conf/neurips/dense_random/ilploss/4x16/2.yaml\n",
      "../../conf/neurips/dense_random/ilploss/4x16/3.yaml\n",
      "../../conf/neurips/dense_random/ilploss/4x16/5.yaml\n",
      "../../conf/neurips/dense_random/ilploss/4x16/1.yaml\n",
      "../../conf/neurips/dense_random/ilploss/4x16/8.yaml\n",
      "../../conf/neurips/dense_random/ilploss/4x16/7.yaml\n",
      "../../conf/neurips/dense_random/ilploss/4x16/0.yaml\n",
      "../../conf/neurips/dense_random/ilploss/4x16/6.yaml\n",
      "../../conf/neurips/dense_random/ilploss/4x16/4.yaml\n",
      "../../conf/neurips/dense_random/ilploss/8x16/9.yaml\n",
      "../../conf/neurips/dense_random/ilploss/8x16/2.yaml\n",
      "../../conf/neurips/dense_random/ilploss/8x16/3.yaml\n",
      "../../conf/neurips/dense_random/ilploss/8x16/5.yaml\n",
      "../../conf/neurips/dense_random/ilploss/8x16/1.yaml\n",
      "../../conf/neurips/dense_random/ilploss/8x16/8.yaml\n",
      "../../conf/neurips/dense_random/ilploss/8x16/7.yaml\n",
      "../../conf/neurips/dense_random/ilploss/8x16/0.yaml\n",
      "../../conf/neurips/dense_random/ilploss/8x16/6.yaml\n",
      "../../conf/neurips/dense_random/ilploss/8x16/4.yaml\n"
     ]
    }
   ],
   "source": [
    "for this_file in glob.glob(os.path.join(base_conf_dir,'**','*.yaml'), recursive=True):\n",
    "    print(this_file)\n",
    "    \n",
    "    with open(this_file,'r') as fh:\n",
    "        lines = fh.readlines()\n",
    "    #\n",
    "    before_ind = [i for i,l in enumerate(lines) if before_txt in l][0]\n",
    "\n",
    "    new_lines = lines[:before_ind] + copy.deepcopy(to_insert) + lines[before_ind:]\n",
    "    with open(this_file,'w') as fh:\n",
    "        fh.writelines(new_lines)\n",
    "    "
   ]
  },
  {
   "cell_type": "code",
   "execution_count": null,
   "id": "a6ae9445",
   "metadata": {},
   "outputs": [],
   "source": []
  }
 ],
 "metadata": {
  "kernelspec": {
   "display_name": "Python [conda env:ilploss]",
   "language": "python",
   "name": "conda-env-ilploss-py"
  },
  "language_info": {
   "codemirror_mode": {
    "name": "ipython",
    "version": 3
   },
   "file_extension": ".py",
   "mimetype": "text/x-python",
   "name": "python",
   "nbconvert_exporter": "python",
   "pygments_lexer": "ipython3",
   "version": "3.9.12"
  }
 },
 "nbformat": 4,
 "nbformat_minor": 5
}
