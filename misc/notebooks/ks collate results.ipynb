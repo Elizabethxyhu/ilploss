{
 "cells": [
  {
   "cell_type": "code",
   "execution_count": 1,
   "id": "de6d041a",
   "metadata": {},
   "outputs": [],
   "source": [
    "import os\n",
    "import sys\n",
    "import pandas as pd\n",
    "import numpy as np\n",
    "import glob"
   ]
  },
  {
   "cell_type": "code",
   "execution_count": 2,
   "id": "0021914b",
   "metadata": {},
   "outputs": [],
   "source": [
    "def filter_files_latest_version(all_files):\n",
    "    d ={}\n",
    "    #'rishabh_runs/neurips/knapsack/binary/ilploss/items_10/seed_2/version_0/training_stats.json'\n",
    "    seed_list = ['seed_0'] #,'seed_1','seed_2']\n",
    "    for f in all_files:\n",
    "        k = os.sep.join(f.split(os.sep)[:-2])\n",
    "        v = int(f.split(os.sep)[-2].split('_')[1])\n",
    "        if k not in d:\n",
    "            d[k] = (v,f)\n",
    "        elif v > d[k][0]:\n",
    "            d[k] = (v,f)\n",
    "            print(\"replacing\",k,v,f)\n",
    "    #\n",
    "    #new_list = [f for v,f in d.values()]\n",
    "    #r_list =[]\n",
    "    return [f for v,f in d.values() if f.split(os.sep)[-3] in seed_list]\n",
    "    \n",
    "\n",
    "def extract_short_key_sudoku(row):\n",
    "    big_key = row[gkey]\n",
    "    return ('.'.join(big_key.split('/')[-2:]))\n",
    "\n",
    "def extract_short_key_rc(row):\n",
    "    big_key = row[gkey]\n",
    "    return ('.'.join(big_key.split('/')[2:]))\n",
    "\n",
    "def extract_short_key_kp(row):\n",
    "    big_key = row[gkey]\n",
    "    return ('.'.join(big_key.split('/')[3:]))\n",
    "\n",
    "\n",
    "def add_grpby_columns_rc(tab):\n",
    "    new_cols = tab[gkey].str.split('/', expand=True)\n",
    "    new_cols = new_cols.iloc[:,2:]\n",
    "    new_colnames = ['data','method','num_cons','seed','ver']\n",
    "    new_cols.columns = new_colnames\n",
    "    tab = pd.concat([tab,new_cols], axis=1)\n",
    "    tab[skey] = tab.apply(extract_short_key_rc, axis=1)\n",
    "    return tab\n",
    "\n",
    "def add_grpby_columns_kp(tab):\n",
    "    #['runs', 'neurips', 'kp', 'ilploss', 'kp4', 'vggasbb_splinit', 'version_0']\n",
    "    new_cols = tab[gkey].str.split('/', expand=True)\n",
    "    new_cols = new_cols.iloc[:,3:]\n",
    "    new_colnames = ['method','data','spl','ver']\n",
    "    new_cols.columns = new_colnames\n",
    "    tab = pd.concat([tab,new_cols], axis=1)\n",
    "    tab[skey] = tab.apply(extract_short_key_kp, axis=1)\n",
    "    return tab\n",
    "\n",
    "def add_grpby_columns_ks(tab):\n",
    "    #['runs', 'neurips', 'kp', 'ilploss', 'kp4', 'vggasbb_splinit', 'version_0']\n",
    "    #'rishabh_runs/neurips/knapsack/binary/ilploss/items_10/seed_0/version_0'\n",
    "    new_cols = tab[gkey].str.split('/', expand=True)\n",
    "    new_cols = new_cols.iloc[:,4:]\n",
    "    new_colnames = ['method','data','seed','ver']\n",
    "    new_cols.columns = new_colnames\n",
    "    tab = pd.concat([tab,new_cols], axis=1)\n",
    "    tab[skey] = tab.apply(extract_short_key_kp, axis=1)\n",
    "    return tab\n",
    "\n",
    "\n",
    "\n",
    "exp_dir_list_sudoku = [\"runs/neurips/sudoku/symbolic\"]\n",
    "\n",
    "grpby_keys_rc = ['data','method','num_cons','ver']\n",
    "grp_over_rc = ['seed']\n",
    "#exp_dir_list_rc = [\"runs/neurips/binary_random\",'runs/neurips/dense_random']\n",
    "exp_dir_list_rc = [\"runs/neurips/binary_random\",\n",
    "                   \"runs/neurips/binary_random_50pct\",\n",
    "                   'runs/neurips/dense_random',\n",
    "                   'runs/neurips/dense_random_50pct']\n",
    "#exp_dir_list_rc = [\"runs/neurips/binary_random_50pct\"]\n",
    "es_col_rc = 'val/acc/idv'\n",
    "expected_count_rc = 10\n",
    "\n",
    "\n",
    "expected_count_kp = 1\n",
    "exp_dir_list_kp = [\"runs/neurips/kp/\"]\n",
    "es_col_kp = 'val/acc/idv'\n",
    "grpby_keys_kp = ['method','data','spl','ver']\n",
    "grp_over_kp = ['data']\n",
    "\n",
    "\n",
    "#'rishabh_runs/neurips/knapsack/binary/ilploss/items_10/seed_0/version_0'\n",
    "#new_colnames = ['method','data','seed','ver']\n",
    "\n",
    "exp_dir_list_ks = ['rishabh_runs/neurips/knapsack/binary']\n",
    "grpby_keys_ks = ['data','method']\n",
    "grp_over_ks = ['seed']\n",
    "es_col_ks = 'val/acc/all'\n",
    "expected_count_ks = 10\n",
    "\n",
    "json_filename = 'training_stats.json'\n",
    "\n",
    "\n"
   ]
  },
  {
   "cell_type": "code",
   "execution_count": 3,
   "id": "7f7645e8",
   "metadata": {
    "scrolled": true
   },
   "outputs": [
    {
     "ename": "NameError",
     "evalue": "name 'all_files' is not defined",
     "output_type": "error",
     "traceback": [
      "\u001b[0;31m---------------------------------------------------------------------------\u001b[0m",
      "\u001b[0;31mNameError\u001b[0m                                 Traceback (most recent call last)",
      "Input \u001b[0;32mIn [3]\u001b[0m, in \u001b[0;36m<cell line: 1>\u001b[0;34m()\u001b[0m\n\u001b[0;32m----> 1\u001b[0m \u001b[43mall_files\u001b[49m[\u001b[38;5;241m0\u001b[39m]\n",
      "\u001b[0;31mNameError\u001b[0m: name 'all_files' is not defined"
     ]
    }
   ],
   "source": [
    "all_files[0]"
   ]
  },
  {
   "cell_type": "code",
   "execution_count": 4,
   "id": "7bd8d9e6",
   "metadata": {},
   "outputs": [],
   "source": [
    "test_only_list = [0,1]\n",
    "#version_list =  ['version_0', 'version_1']\n",
    "#version_list =  ['version_0']\n",
    "event_list = ['test_epoch_end']\n",
    "version_list =[]\n"
   ]
  },
  {
   "cell_type": "markdown",
   "id": "0721236d",
   "metadata": {},
   "source": [
    "## Input: "
   ]
  },
  {
   "cell_type": "code",
   "execution_count": 5,
   "id": "2419fa34",
   "metadata": {},
   "outputs": [],
   "source": [
    "dataset= 'ks'\n"
   ]
  },
  {
   "cell_type": "code",
   "execution_count": 6,
   "id": "27514530",
   "metadata": {},
   "outputs": [
    {
     "data": {
      "text/plain": [
       "'/home/yatin/softlinks/hpchome/phd/comboptnet/neurips_sudoku/misc/notebooks'"
      ]
     },
     "execution_count": 6,
     "metadata": {},
     "output_type": "execute_result"
    }
   ],
   "source": [
    "pwd"
   ]
  },
  {
   "cell_type": "code",
   "execution_count": 7,
   "id": "a6e38012",
   "metadata": {},
   "outputs": [
    {
     "data": {
      "text/plain": [
       "'/home/yatin/softlinks/hpchome/phd/comboptnet/neurips_sudoku/misc/notebooks'"
      ]
     },
     "execution_count": 7,
     "metadata": {},
     "output_type": "execute_result"
    }
   ],
   "source": [
    "pwd"
   ]
  },
  {
   "cell_type": "code",
   "execution_count": 8,
   "id": "a85f2bfa",
   "metadata": {},
   "outputs": [],
   "source": [
    "base_dir =\"../..\"\n",
    "os.chdir(base_dir)"
   ]
  },
  {
   "cell_type": "code",
   "execution_count": 9,
   "id": "0a49ab6c",
   "metadata": {},
   "outputs": [],
   "source": [
    "gkey = 'log_dir'\n",
    "\n",
    "total_train_time = 'total_time/train'\n",
    "total_val_time = 'total_time/val'\n",
    "epoch_val_time = 'epoch_time/val'\n",
    "epoch_test_time  = 'epoch_time/test'\n",
    "net_train_time = 'net_time/train'\n",
    "val_timeout = 'val/status/time_limit'\n",
    "val_optimal = 'val/status/optimal'\n",
    "test_timeout = 'test/status/time_limit'\n",
    "test_optimal = 'test/status/optimal'\n",
    "val_acc = 'val/acc/all'\n",
    "test_acc = 'test/acc/all'\n",
    "event = 'event'\n",
    "#derived columns:\n",
    "val_count = 'val_count'\n",
    "test_count = 'test_count'\n",
    "skey = 'skey'\n",
    "val_acc_num = 'val/acc/num'\n",
    "test_acc_num = 'test/acc/num'\n",
    "test_acc_pre = 'test/acc/pre'\n",
    "relevant_cols = [skey,event,net_train_time,total_train_time,total_val_time,epoch_test_time,\n",
    "                 val_timeout, test_timeout, val_count, test_count, \n",
    "                 val_acc, test_acc]\n",
    "\n",
    "time_cols = [net_train_time,total_train_time,total_val_time,epoch_test_time]"
   ]
  },
  {
   "cell_type": "code",
   "execution_count": 10,
   "id": "84af6922",
   "metadata": {},
   "outputs": [],
   "source": [
    "if dataset== 'rc':\n",
    "    add_grpby_columns = add_grpby_columns_rc\n",
    "    grpby_keys = grpby_keys_rc\n",
    "    exp_dir_list = exp_dir_list_rc\n",
    "    expected_count = expected_count_rc\n",
    "    grp_over = grp_over_rc\n",
    "    es_col = es_col_rc\n",
    "    stat_cols = [net_train_time,total_train_time,total_val_time,epoch_test_time,val_acc,test_acc]\n",
    "    val_metric = val_acc\n",
    "    test_metric = test_acc\n",
    "    filter_files = lambda x: x\n",
    "\n",
    "elif dataset=='kp':\n",
    "    \n",
    "    exp_dir_list = exp_dir_list_kp\n",
    "    add_grpby_columns = add_grpby_columns_kp\n",
    "    expected_count = expected_count_kp\n",
    "    es_col = es_col_kp\n",
    "    grpby_keys = grpby_keys_kp\n",
    "    grp_over = grp_over_kp\n",
    "    stat_cols = [net_train_time,total_train_time,total_val_time,epoch_test_time,val_acc,test_acc, val_acc_num, test_acc_num, test_acc_pre]\n",
    "    val_metric = val_acc_num\n",
    "    test_metric = test_acc_num\n",
    "    filter_files = lambda x: x\n",
    "\n",
    "    \n",
    "elif dataset == 'ks':\n",
    "    exp_dir_list = exp_dir_list_ks\n",
    "    add_grpby_columns = add_grpby_columns_ks\n",
    "    expected_count = expected_count_ks\n",
    "    es_col = es_col_ks\n",
    "    grpby_keys = grpby_keys_ks\n",
    "    grp_over = grp_over_ks\n",
    "    stat_cols = [net_train_time,total_train_time,total_val_time,epoch_test_time,val_acc,test_acc]\n",
    "    val_metric = val_acc\n",
    "    test_metric = test_acc\n",
    "    filter_files = filter_files_latest_version\n",
    "    \n",
    "else:\n",
    "    raise"
   ]
  },
  {
   "cell_type": "code",
   "execution_count": 11,
   "id": "8e3859e7",
   "metadata": {},
   "outputs": [
    {
     "data": {
      "text/plain": [
       "'ks'"
      ]
     },
     "execution_count": 11,
     "metadata": {},
     "output_type": "execute_result"
    }
   ],
   "source": [
    "dataset"
   ]
  },
  {
   "cell_type": "code",
   "execution_count": 12,
   "id": "33db21c0",
   "metadata": {},
   "outputs": [
    {
     "data": {
      "text/plain": [
       "['rishabh_runs/neurips/knapsack/binary']"
      ]
     },
     "execution_count": 12,
     "metadata": {},
     "output_type": "execute_result"
    }
   ],
   "source": [
    "exp_dir_list"
   ]
  },
  {
   "cell_type": "code",
   "execution_count": null,
   "id": "9a570171",
   "metadata": {},
   "outputs": [],
   "source": []
  },
  {
   "cell_type": "code",
   "execution_count": 13,
   "id": "a429b5bf",
   "metadata": {},
   "outputs": [],
   "source": [
    "all_files = []\n",
    "for exp_dir in exp_dir_list:\n",
    "    for dirpath, dirnames, filenames in os.walk(exp_dir, topdown= True):\n",
    "        #print(dirpath, dirnames,filenames)\n",
    "        to_skip = []\n",
    "        for temp_ind, this_exp_dir in enumerate(dirnames):\n",
    "            log_file = os.path.join(dirpath, this_exp_dir, json_filename)\n",
    "            #print(log_file)\n",
    "            if os.path.exists(log_file):\n",
    "                all_files.append(log_file)\n",
    "                to_skip.append(temp_ind)\n",
    "            #\n",
    "            #prune search\n",
    "        #print(\"Skipping search in:\",[dirnames[x] for x in to_skip])\n",
    "        for temp_i in range( len(to_skip) - 1, -1, -1):\n",
    "            del dirnames[to_skip[temp_i]]\n",
    "        \n",
    "    "
   ]
  },
  {
   "cell_type": "code",
   "execution_count": 14,
   "id": "0deb0dd2",
   "metadata": {},
   "outputs": [
    {
     "data": {
      "text/plain": [
       "91"
      ]
     },
     "execution_count": 14,
     "metadata": {},
     "output_type": "execute_result"
    }
   ],
   "source": [
    "len(all_files)"
   ]
  },
  {
   "cell_type": "code",
   "execution_count": 15,
   "id": "eb8fd60b",
   "metadata": {},
   "outputs": [
    {
     "name": "stdout",
     "output_type": "stream",
     "text": [
      "Fetched all desired file names.. now reading them.. 91\n"
     ]
    }
   ],
   "source": [
    "print(\"Fetched all desired file names.. now reading them..\", len(all_files))"
   ]
  },
  {
   "cell_type": "code",
   "execution_count": null,
   "id": "1ce7ff9d",
   "metadata": {},
   "outputs": [],
   "source": []
  },
  {
   "cell_type": "code",
   "execution_count": 16,
   "id": "3562ba08",
   "metadata": {},
   "outputs": [
    {
     "name": "stdout",
     "output_type": "stream",
     "text": [
      "replacing rishabh_runs/neurips/knapsack/binary/comboptnet/items_10/seed_2 1 rishabh_runs/neurips/knapsack/binary/comboptnet/items_10/seed_2/version_1/training_stats.json\n",
      "replacing rishabh_runs/neurips/knapsack/binary/comboptnet/items_10/seed_1 1 rishabh_runs/neurips/knapsack/binary/comboptnet/items_10/seed_1/version_1/training_stats.json\n",
      "replacing rishabh_runs/neurips/knapsack/binary/comboptnet/items_10/seed_3 1 rishabh_runs/neurips/knapsack/binary/comboptnet/items_10/seed_3/version_1/training_stats.json\n",
      "replacing rishabh_runs/neurips/knapsack/binary/comboptnet/items_15/seed_1 1 rishabh_runs/neurips/knapsack/binary/comboptnet/items_15/seed_1/version_1/training_stats.json\n",
      "replacing rishabh_runs/neurips/knapsack/binary/comboptnet/items_10_orig/seed_2 1 rishabh_runs/neurips/knapsack/binary/comboptnet/items_10_orig/seed_2/version_1/training_stats.json\n",
      "replacing rishabh_runs/neurips/knapsack/binary/comboptnet/items_10_orig/seed_1 2 rishabh_runs/neurips/knapsack/binary/comboptnet/items_10_orig/seed_1/version_2/training_stats.json\n"
     ]
    }
   ],
   "source": [
    "all_files_filtered = filter_files(all_files)"
   ]
  },
  {
   "cell_type": "code",
   "execution_count": 17,
   "id": "cac10e57",
   "metadata": {},
   "outputs": [
    {
     "name": "stdout",
     "output_type": "stream",
     "text": [
      "Fetched all desired file names.. now reading them.. 14\n"
     ]
    }
   ],
   "source": [
    "print(\"Fetched all desired file names.. now reading them..\", len(all_files_filtered))"
   ]
  },
  {
   "cell_type": "code",
   "execution_count": 18,
   "id": "ac677e98",
   "metadata": {},
   "outputs": [],
   "source": [
    "all_tables = []\n",
    "for this_file in all_files_filtered:\n",
    "    this_table = pd.read_json(this_file, orient = 'records',lines = True)\n",
    "    this_table['logdir'] = os.path.dirname(this_file)\n",
    "    all_tables.append(this_table)\n",
    "\n",
    "tab = pd.concat(all_tables)"
   ]
  },
  {
   "cell_type": "code",
   "execution_count": 19,
   "id": "12272424",
   "metadata": {},
   "outputs": [
    {
     "data": {
      "text/plain": [
       "14"
      ]
     },
     "execution_count": 19,
     "metadata": {},
     "output_type": "execute_result"
    }
   ],
   "source": [
    "len(all_tables)"
   ]
  },
  {
   "cell_type": "code",
   "execution_count": 20,
   "id": "47f79934",
   "metadata": {},
   "outputs": [
    {
     "data": {
      "text/plain": [
       "(2584, 22)"
      ]
     },
     "execution_count": 20,
     "metadata": {},
     "output_type": "execute_result"
    }
   ],
   "source": [
    "tab.shape"
   ]
  },
  {
   "cell_type": "code",
   "execution_count": 21,
   "id": "678ffec4",
   "metadata": {},
   "outputs": [],
   "source": [
    "#tab.iloc[0]['log_dir'].split('/')"
   ]
  },
  {
   "cell_type": "code",
   "execution_count": 22,
   "id": "e7368fd2",
   "metadata": {},
   "outputs": [],
   "source": [
    "tab = add_grpby_columns(tab)"
   ]
  },
  {
   "cell_type": "code",
   "execution_count": 23,
   "id": "436ec5db",
   "metadata": {},
   "outputs": [],
   "source": [
    "tab.reset_index(inplace=True,drop=True)"
   ]
  },
  {
   "cell_type": "code",
   "execution_count": 24,
   "id": "03850f9b",
   "metadata": {},
   "outputs": [],
   "source": [
    "tab[net_train_time] = tab[total_train_time] - tab[total_val_time]"
   ]
  },
  {
   "cell_type": "code",
   "execution_count": null,
   "id": "b9cf9a9e",
   "metadata": {},
   "outputs": [],
   "source": []
  },
  {
   "cell_type": "code",
   "execution_count": 25,
   "id": "04125dc4",
   "metadata": {},
   "outputs": [],
   "source": [
    "#extract short key\n",
    "for col in [val_timeout,test_timeout, val_optimal, test_optimal]:\n",
    "    if col not in tab.columns:\n",
    "        tab[col] = 0\n",
    "    \n",
    "\n",
    "tab[val_count] = tab[val_optimal] + tab[val_timeout]\n",
    "\n",
    "tab[test_count] = tab[test_optimal] + tab[test_timeout]\n",
    "\n",
    "tab[time_cols] = tab[time_cols]/60.0"
   ]
  },
  {
   "cell_type": "code",
   "execution_count": 26,
   "id": "066d2c3c",
   "metadata": {},
   "outputs": [
    {
     "data": {
      "text/plain": [
       "'val/acc/all'"
      ]
     },
     "execution_count": 26,
     "metadata": {},
     "output_type": "execute_result"
    }
   ],
   "source": [
    "es_col"
   ]
  },
  {
   "cell_type": "code",
   "execution_count": null,
   "id": "60c83e73",
   "metadata": {},
   "outputs": [],
   "source": []
  },
  {
   "cell_type": "code",
   "execution_count": 27,
   "id": "11335154",
   "metadata": {},
   "outputs": [],
   "source": [
    "time_tab = tab.iloc[tab.groupby(skey)[es_col].idxmax().dropna()]"
   ]
  },
  {
   "cell_type": "code",
   "execution_count": 28,
   "id": "3c12e7c9",
   "metadata": {},
   "outputs": [
    {
     "data": {
      "text/html": [
       "<div>\n",
       "<style scoped>\n",
       "    .dataframe tbody tr th:only-of-type {\n",
       "        vertical-align: middle;\n",
       "    }\n",
       "\n",
       "    .dataframe tbody tr th {\n",
       "        vertical-align: top;\n",
       "    }\n",
       "\n",
       "    .dataframe thead th {\n",
       "        text-align: right;\n",
       "    }\n",
       "</style>\n",
       "<table border=\"1\" class=\"dataframe\">\n",
       "  <thead>\n",
       "    <tr style=\"text-align: right;\">\n",
       "      <th></th>\n",
       "      <th>seed</th>\n",
       "      <th>skey</th>\n",
       "    </tr>\n",
       "  </thead>\n",
       "  <tbody>\n",
       "    <tr>\n",
       "      <th>2523</th>\n",
       "      <td>seed_0</td>\n",
       "      <td>binary.comboptnet.items_20.seed_0.version_2</td>\n",
       "    </tr>\n",
       "    <tr>\n",
       "      <th>1867</th>\n",
       "      <td>seed_0</td>\n",
       "      <td>binary.ilploss.items_20.seed_0.version_0</td>\n",
       "    </tr>\n",
       "  </tbody>\n",
       "</table>\n",
       "</div>"
      ],
      "text/plain": [
       "        seed                                         skey\n",
       "2523  seed_0  binary.comboptnet.items_20.seed_0.version_2\n",
       "1867  seed_0     binary.ilploss.items_20.seed_0.version_0"
      ]
     },
     "execution_count": 28,
     "metadata": {},
     "output_type": "execute_result"
    }
   ],
   "source": [
    "time_tab[time_tab['data'] == 'items_20'][['seed',skey]]"
   ]
  },
  {
   "cell_type": "code",
   "execution_count": 29,
   "id": "9d67426b",
   "metadata": {},
   "outputs": [
    {
     "data": {
      "text/plain": [
       "(['data', 'method'], ['seed'])"
      ]
     },
     "execution_count": 29,
     "metadata": {},
     "output_type": "execute_result"
    }
   ],
   "source": [
    "grpby_keys, grp_over"
   ]
  },
  {
   "cell_type": "code",
   "execution_count": 30,
   "id": "d8c1f463",
   "metadata": {},
   "outputs": [],
   "source": [
    "count_time = time_tab.groupby(grpby_keys)[grp_over[0]].count().to_frame()"
   ]
  },
  {
   "cell_type": "code",
   "execution_count": 31,
   "id": "4347c3b3",
   "metadata": {},
   "outputs": [
    {
     "data": {
      "text/html": [
       "<div>\n",
       "<style scoped>\n",
       "    .dataframe tbody tr th:only-of-type {\n",
       "        vertical-align: middle;\n",
       "    }\n",
       "\n",
       "    .dataframe tbody tr th {\n",
       "        vertical-align: top;\n",
       "    }\n",
       "\n",
       "    .dataframe thead th {\n",
       "        text-align: right;\n",
       "    }\n",
       "</style>\n",
       "<table border=\"1\" class=\"dataframe\">\n",
       "  <thead>\n",
       "    <tr style=\"text-align: right;\">\n",
       "      <th></th>\n",
       "      <th></th>\n",
       "      <th>seed</th>\n",
       "    </tr>\n",
       "    <tr>\n",
       "      <th>data</th>\n",
       "      <th>method</th>\n",
       "      <th></th>\n",
       "    </tr>\n",
       "  </thead>\n",
       "  <tbody>\n",
       "    <tr>\n",
       "      <th rowspan=\"2\" valign=\"top\">items_10</th>\n",
       "      <th>comboptnet</th>\n",
       "      <td>1</td>\n",
       "    </tr>\n",
       "    <tr>\n",
       "      <th>ilploss</th>\n",
       "      <td>1</td>\n",
       "    </tr>\n",
       "    <tr>\n",
       "      <th rowspan=\"2\" valign=\"top\">items_10_orig</th>\n",
       "      <th>comboptnet</th>\n",
       "      <td>1</td>\n",
       "    </tr>\n",
       "    <tr>\n",
       "      <th>ilploss</th>\n",
       "      <td>1</td>\n",
       "    </tr>\n",
       "    <tr>\n",
       "      <th rowspan=\"2\" valign=\"top\">items_15</th>\n",
       "      <th>comboptnet</th>\n",
       "      <td>1</td>\n",
       "    </tr>\n",
       "    <tr>\n",
       "      <th>ilploss</th>\n",
       "      <td>1</td>\n",
       "    </tr>\n",
       "    <tr>\n",
       "      <th rowspan=\"2\" valign=\"top\">items_20</th>\n",
       "      <th>comboptnet</th>\n",
       "      <td>1</td>\n",
       "    </tr>\n",
       "    <tr>\n",
       "      <th>ilploss</th>\n",
       "      <td>1</td>\n",
       "    </tr>\n",
       "    <tr>\n",
       "      <th>items_25</th>\n",
       "      <th>ilploss</th>\n",
       "      <td>1</td>\n",
       "    </tr>\n",
       "    <tr>\n",
       "      <th>items_30</th>\n",
       "      <th>ilploss</th>\n",
       "      <td>1</td>\n",
       "    </tr>\n",
       "    <tr>\n",
       "      <th>items_35</th>\n",
       "      <th>ilploss</th>\n",
       "      <td>1</td>\n",
       "    </tr>\n",
       "    <tr>\n",
       "      <th>items_40</th>\n",
       "      <th>ilploss</th>\n",
       "      <td>1</td>\n",
       "    </tr>\n",
       "    <tr>\n",
       "      <th>items_45</th>\n",
       "      <th>ilploss</th>\n",
       "      <td>1</td>\n",
       "    </tr>\n",
       "    <tr>\n",
       "      <th>items_50</th>\n",
       "      <th>ilploss</th>\n",
       "      <td>1</td>\n",
       "    </tr>\n",
       "  </tbody>\n",
       "</table>\n",
       "</div>"
      ],
      "text/plain": [
       "                          seed\n",
       "data          method          \n",
       "items_10      comboptnet     1\n",
       "              ilploss        1\n",
       "items_10_orig comboptnet     1\n",
       "              ilploss        1\n",
       "items_15      comboptnet     1\n",
       "              ilploss        1\n",
       "items_20      comboptnet     1\n",
       "              ilploss        1\n",
       "items_25      ilploss        1\n",
       "items_30      ilploss        1\n",
       "items_35      ilploss        1\n",
       "items_40      ilploss        1\n",
       "items_45      ilploss        1\n",
       "items_50      ilploss        1"
      ]
     },
     "execution_count": 31,
     "metadata": {},
     "output_type": "execute_result"
    }
   ],
   "source": [
    "count_time"
   ]
  },
  {
   "cell_type": "code",
   "execution_count": 32,
   "id": "eec2d2d1",
   "metadata": {},
   "outputs": [],
   "source": [
    "time_stats = time_tab.groupby(grpby_keys)[stat_cols+['epoch']].agg(['mean','std']).round(4)"
   ]
  },
  {
   "cell_type": "code",
   "execution_count": 33,
   "id": "226c2f85",
   "metadata": {},
   "outputs": [],
   "source": [
    "count_time.columns = pd.MultiIndex.from_product([count_time.columns, ['count']])\n"
   ]
  },
  {
   "cell_type": "code",
   "execution_count": null,
   "id": "6c1a99b5",
   "metadata": {},
   "outputs": [],
   "source": []
  },
  {
   "cell_type": "code",
   "execution_count": 34,
   "id": "322720a8",
   "metadata": {},
   "outputs": [],
   "source": [
    "time_stats_wcount = pd.concat([time_stats, count_time],axis=1)"
   ]
  },
  {
   "cell_type": "code",
   "execution_count": 35,
   "id": "04d04952",
   "metadata": {},
   "outputs": [
    {
     "data": {
      "text/plain": [
       "['data', 'method']"
      ]
     },
     "execution_count": 35,
     "metadata": {},
     "output_type": "execute_result"
    }
   ],
   "source": [
    "grpby_keys"
   ]
  },
  {
   "cell_type": "code",
   "execution_count": 36,
   "id": "f5419562",
   "metadata": {},
   "outputs": [],
   "source": [
    "time_stats_pivot = pd.pivot_table(time_stats_wcount, index='method', columns=['data']).round(2)[[net_train_time, 'epoch','seed']]"
   ]
  },
  {
   "cell_type": "code",
   "execution_count": 38,
   "id": "c0bc56cc",
   "metadata": {},
   "outputs": [
    {
     "data": {
      "text/html": [
       "<div>\n",
       "<style scoped>\n",
       "    .dataframe tbody tr th:only-of-type {\n",
       "        vertical-align: middle;\n",
       "    }\n",
       "\n",
       "    .dataframe tbody tr th {\n",
       "        vertical-align: top;\n",
       "    }\n",
       "\n",
       "    .dataframe thead th {\n",
       "        text-align: right;\n",
       "    }\n",
       "</style>\n",
       "<table border=\"1\" class=\"dataframe\">\n",
       "  <thead>\n",
       "    <tr style=\"text-align: right;\">\n",
       "      <th>data</th>\n",
       "      <th>items_10</th>\n",
       "      <th>items_10_orig</th>\n",
       "      <th>items_15</th>\n",
       "      <th>items_20</th>\n",
       "      <th>items_25</th>\n",
       "      <th>items_30</th>\n",
       "      <th>items_35</th>\n",
       "      <th>items_40</th>\n",
       "      <th>items_45</th>\n",
       "      <th>items_50</th>\n",
       "    </tr>\n",
       "    <tr>\n",
       "      <th>method</th>\n",
       "      <th></th>\n",
       "      <th></th>\n",
       "      <th></th>\n",
       "      <th></th>\n",
       "      <th></th>\n",
       "      <th></th>\n",
       "      <th></th>\n",
       "      <th></th>\n",
       "      <th></th>\n",
       "      <th></th>\n",
       "    </tr>\n",
       "  </thead>\n",
       "  <tbody>\n",
       "    <tr>\n",
       "      <th>comboptnet</th>\n",
       "      <td>26.4</td>\n",
       "      <td>46.33</td>\n",
       "      <td>91.38</td>\n",
       "      <td>156.24</td>\n",
       "      <td>nan</td>\n",
       "      <td>nan</td>\n",
       "      <td>nan</td>\n",
       "      <td>nan</td>\n",
       "      <td>nan</td>\n",
       "      <td>nan</td>\n",
       "    </tr>\n",
       "    <tr>\n",
       "      <th>ilploss</th>\n",
       "      <td>32.33</td>\n",
       "      <td>20.14</td>\n",
       "      <td>43.78</td>\n",
       "      <td>112.08</td>\n",
       "      <td>161.58</td>\n",
       "      <td>102.2</td>\n",
       "      <td>104.13</td>\n",
       "      <td>73.49</td>\n",
       "      <td>98.93</td>\n",
       "      <td>117.93</td>\n",
       "    </tr>\n",
       "  </tbody>\n",
       "</table>\n",
       "</div>"
      ],
      "text/plain": [
       "data       items_10 items_10_orig items_15 items_20 items_25 items_30  \\\n",
       "method                                                                  \n",
       "comboptnet     26.4         46.33    91.38   156.24      nan      nan   \n",
       "ilploss       32.33         20.14    43.78   112.08   161.58    102.2   \n",
       "\n",
       "data       items_35 items_40 items_45 items_50  \n",
       "method                                          \n",
       "comboptnet      nan      nan      nan      nan  \n",
       "ilploss      104.13    73.49    98.93   117.93  "
      ]
     },
     "execution_count": 38,
     "metadata": {},
     "output_type": "execute_result"
    }
   ],
   "source": [
    "time_stats_pivot[net_train_time]['mean'].astype(str) "
   ]
  },
  {
   "cell_type": "code",
   "execution_count": 37,
   "id": "69a59949",
   "metadata": {},
   "outputs": [
    {
     "ename": "KeyError",
     "evalue": "'std'",
     "output_type": "error",
     "traceback": [
      "\u001b[0;31m---------------------------------------------------------------------------\u001b[0m",
      "\u001b[0;31mKeyError\u001b[0m                                  Traceback (most recent call last)",
      "Input \u001b[0;32mIn [37]\u001b[0m, in \u001b[0;36m<cell line: 1>\u001b[0;34m()\u001b[0m\n\u001b[0;32m----> 1\u001b[0m time_stats_pivot[net_train_time][\u001b[38;5;124m'\u001b[39m\u001b[38;5;124mmean\u001b[39m\u001b[38;5;124m'\u001b[39m]\u001b[38;5;241m.\u001b[39mastype(\u001b[38;5;28mstr\u001b[39m) \u001b[38;5;241m+\u001b[39m \u001b[38;5;124m'\u001b[39m\u001b[38;5;124m$\u001b[39m\u001b[38;5;124m\\\u001b[39m\u001b[38;5;124mpm$\u001b[39m\u001b[38;5;124m'\u001b[39m \u001b[38;5;241m+\u001b[39m  \u001b[43mtime_stats_pivot\u001b[49m\u001b[43m[\u001b[49m\u001b[43mnet_train_time\u001b[49m\u001b[43m]\u001b[49m\u001b[43m[\u001b[49m\u001b[38;5;124;43m'\u001b[39;49m\u001b[38;5;124;43mstd\u001b[39;49m\u001b[38;5;124;43m'\u001b[39;49m\u001b[43m]\u001b[49m\u001b[38;5;241m.\u001b[39mastype(\u001b[38;5;28mstr\u001b[39m)\n",
      "File \u001b[0;32m~/miniconda3/envs/ilploss/lib/python3.9/site-packages/pandas/core/frame.py:3504\u001b[0m, in \u001b[0;36mDataFrame.__getitem__\u001b[0;34m(self, key)\u001b[0m\n\u001b[1;32m   3502\u001b[0m \u001b[38;5;28;01mif\u001b[39;00m is_single_key:\n\u001b[1;32m   3503\u001b[0m     \u001b[38;5;28;01mif\u001b[39;00m \u001b[38;5;28mself\u001b[39m\u001b[38;5;241m.\u001b[39mcolumns\u001b[38;5;241m.\u001b[39mnlevels \u001b[38;5;241m>\u001b[39m \u001b[38;5;241m1\u001b[39m:\n\u001b[0;32m-> 3504\u001b[0m         \u001b[38;5;28;01mreturn\u001b[39;00m \u001b[38;5;28;43mself\u001b[39;49m\u001b[38;5;241;43m.\u001b[39;49m\u001b[43m_getitem_multilevel\u001b[49m\u001b[43m(\u001b[49m\u001b[43mkey\u001b[49m\u001b[43m)\u001b[49m\n\u001b[1;32m   3505\u001b[0m     indexer \u001b[38;5;241m=\u001b[39m \u001b[38;5;28mself\u001b[39m\u001b[38;5;241m.\u001b[39mcolumns\u001b[38;5;241m.\u001b[39mget_loc(key)\n\u001b[1;32m   3506\u001b[0m     \u001b[38;5;28;01mif\u001b[39;00m is_integer(indexer):\n",
      "File \u001b[0;32m~/miniconda3/envs/ilploss/lib/python3.9/site-packages/pandas/core/frame.py:3555\u001b[0m, in \u001b[0;36mDataFrame._getitem_multilevel\u001b[0;34m(self, key)\u001b[0m\n\u001b[1;32m   3553\u001b[0m \u001b[38;5;28;01mdef\u001b[39;00m \u001b[38;5;21m_getitem_multilevel\u001b[39m(\u001b[38;5;28mself\u001b[39m, key):\n\u001b[1;32m   3554\u001b[0m     \u001b[38;5;66;03m# self.columns is a MultiIndex\u001b[39;00m\n\u001b[0;32m-> 3555\u001b[0m     loc \u001b[38;5;241m=\u001b[39m \u001b[38;5;28;43mself\u001b[39;49m\u001b[38;5;241;43m.\u001b[39;49m\u001b[43mcolumns\u001b[49m\u001b[38;5;241;43m.\u001b[39;49m\u001b[43mget_loc\u001b[49m\u001b[43m(\u001b[49m\u001b[43mkey\u001b[49m\u001b[43m)\u001b[49m\n\u001b[1;32m   3556\u001b[0m     \u001b[38;5;28;01mif\u001b[39;00m \u001b[38;5;28misinstance\u001b[39m(loc, (\u001b[38;5;28mslice\u001b[39m, np\u001b[38;5;241m.\u001b[39mndarray)):\n\u001b[1;32m   3557\u001b[0m         new_columns \u001b[38;5;241m=\u001b[39m \u001b[38;5;28mself\u001b[39m\u001b[38;5;241m.\u001b[39mcolumns[loc]\n",
      "File \u001b[0;32m~/miniconda3/envs/ilploss/lib/python3.9/site-packages/pandas/core/indexes/multi.py:2869\u001b[0m, in \u001b[0;36mMultiIndex.get_loc\u001b[0;34m(self, key, method)\u001b[0m\n\u001b[1;32m   2866\u001b[0m     \u001b[38;5;28;01mreturn\u001b[39;00m mask\n\u001b[1;32m   2868\u001b[0m \u001b[38;5;28;01mif\u001b[39;00m \u001b[38;5;129;01mnot\u001b[39;00m \u001b[38;5;28misinstance\u001b[39m(key, \u001b[38;5;28mtuple\u001b[39m):\n\u001b[0;32m-> 2869\u001b[0m     loc \u001b[38;5;241m=\u001b[39m \u001b[38;5;28;43mself\u001b[39;49m\u001b[38;5;241;43m.\u001b[39;49m\u001b[43m_get_level_indexer\u001b[49m\u001b[43m(\u001b[49m\u001b[43mkey\u001b[49m\u001b[43m,\u001b[49m\u001b[43m \u001b[49m\u001b[43mlevel\u001b[49m\u001b[38;5;241;43m=\u001b[39;49m\u001b[38;5;241;43m0\u001b[39;49m\u001b[43m)\u001b[49m\n\u001b[1;32m   2870\u001b[0m     \u001b[38;5;28;01mreturn\u001b[39;00m _maybe_to_slice(loc)\n\u001b[1;32m   2872\u001b[0m keylen \u001b[38;5;241m=\u001b[39m \u001b[38;5;28mlen\u001b[39m(key)\n",
      "File \u001b[0;32m~/miniconda3/envs/ilploss/lib/python3.9/site-packages/pandas/core/indexes/multi.py:3249\u001b[0m, in \u001b[0;36mMultiIndex._get_level_indexer\u001b[0;34m(self, key, level, indexer)\u001b[0m\n\u001b[1;32m   3245\u001b[0m     end \u001b[38;5;241m=\u001b[39m level_codes\u001b[38;5;241m.\u001b[39msearchsorted(idx, side\u001b[38;5;241m=\u001b[39m\u001b[38;5;124m\"\u001b[39m\u001b[38;5;124mright\u001b[39m\u001b[38;5;124m\"\u001b[39m)\n\u001b[1;32m   3247\u001b[0m \u001b[38;5;28;01mif\u001b[39;00m start \u001b[38;5;241m==\u001b[39m end:\n\u001b[1;32m   3248\u001b[0m     \u001b[38;5;66;03m# The label is present in self.levels[level] but unused:\u001b[39;00m\n\u001b[0;32m-> 3249\u001b[0m     \u001b[38;5;28;01mraise\u001b[39;00m \u001b[38;5;167;01mKeyError\u001b[39;00m(key)\n\u001b[1;32m   3250\u001b[0m \u001b[38;5;28;01mreturn\u001b[39;00m \u001b[38;5;28mslice\u001b[39m(start, end)\n",
      "\u001b[0;31mKeyError\u001b[0m: 'std'"
     ]
    }
   ],
   "source": [
    "time_stats_pivot[net_train_time]['mean'].astype(str) + '$\\pm$' +  time_stats_pivot[net_train_time]['std'].astype(str)"
   ]
  },
  {
   "cell_type": "code",
   "execution_count": 39,
   "id": "5682377f",
   "metadata": {},
   "outputs": [
    {
     "data": {
      "text/html": [
       "<div>\n",
       "<style scoped>\n",
       "    .dataframe tbody tr th:only-of-type {\n",
       "        vertical-align: middle;\n",
       "    }\n",
       "\n",
       "    .dataframe tbody tr th {\n",
       "        vertical-align: top;\n",
       "    }\n",
       "\n",
       "    .dataframe thead th {\n",
       "        text-align: right;\n",
       "    }\n",
       "</style>\n",
       "<table border=\"1\" class=\"dataframe\">\n",
       "  <thead>\n",
       "    <tr style=\"text-align: right;\">\n",
       "      <th>data</th>\n",
       "      <th>items_10</th>\n",
       "      <th>items_10_orig</th>\n",
       "      <th>items_15</th>\n",
       "      <th>items_20</th>\n",
       "      <th>items_25</th>\n",
       "      <th>items_30</th>\n",
       "      <th>items_35</th>\n",
       "      <th>items_40</th>\n",
       "      <th>items_45</th>\n",
       "      <th>items_50</th>\n",
       "    </tr>\n",
       "    <tr>\n",
       "      <th>method</th>\n",
       "      <th></th>\n",
       "      <th></th>\n",
       "      <th></th>\n",
       "      <th></th>\n",
       "      <th></th>\n",
       "      <th></th>\n",
       "      <th></th>\n",
       "      <th></th>\n",
       "      <th></th>\n",
       "      <th></th>\n",
       "    </tr>\n",
       "  </thead>\n",
       "  <tbody>\n",
       "    <tr>\n",
       "      <th>comboptnet</th>\n",
       "      <td>16.0</td>\n",
       "      <td>27.0</td>\n",
       "      <td>30.0</td>\n",
       "      <td>12.0</td>\n",
       "      <td>nan</td>\n",
       "      <td>nan</td>\n",
       "      <td>nan</td>\n",
       "      <td>nan</td>\n",
       "      <td>nan</td>\n",
       "      <td>nan</td>\n",
       "    </tr>\n",
       "    <tr>\n",
       "      <th>ilploss</th>\n",
       "      <td>695.0</td>\n",
       "      <td>431.0</td>\n",
       "      <td>863.0</td>\n",
       "      <td>2087.0</td>\n",
       "      <td>2815.0</td>\n",
       "      <td>1727.0</td>\n",
       "      <td>1527.0</td>\n",
       "      <td>959.0</td>\n",
       "      <td>1239.0</td>\n",
       "      <td>1303.0</td>\n",
       "    </tr>\n",
       "  </tbody>\n",
       "</table>\n",
       "</div>"
      ],
      "text/plain": [
       "data       items_10 items_10_orig items_15 items_20 items_25 items_30  \\\n",
       "method                                                                  \n",
       "comboptnet     16.0          27.0     30.0     12.0      nan      nan   \n",
       "ilploss       695.0         431.0    863.0   2087.0   2815.0   1727.0   \n",
       "\n",
       "data       items_35 items_40 items_45 items_50  \n",
       "method                                          \n",
       "comboptnet      nan      nan      nan      nan  \n",
       "ilploss      1527.0    959.0   1239.0   1303.0  "
      ]
     },
     "execution_count": 39,
     "metadata": {},
     "output_type": "execute_result"
    }
   ],
   "source": [
    "time_stats_pivot['epoch']['mean'].astype(str) "
   ]
  },
  {
   "cell_type": "code",
   "execution_count": null,
   "id": "bf6eff62",
   "metadata": {},
   "outputs": [],
   "source": [
    "time_stats_pivot['epoch']['mean'].astype(str) + '$\\pm$' +  time_stats_pivot['epoch']['std'].astype(str)"
   ]
  },
  {
   "cell_type": "code",
   "execution_count": 40,
   "id": "7c8ee86c",
   "metadata": {},
   "outputs": [
    {
     "data": {
      "text/html": [
       "<div>\n",
       "<style scoped>\n",
       "    .dataframe tbody tr th:only-of-type {\n",
       "        vertical-align: middle;\n",
       "    }\n",
       "\n",
       "    .dataframe tbody tr th {\n",
       "        vertical-align: top;\n",
       "    }\n",
       "\n",
       "    .dataframe thead tr th {\n",
       "        text-align: left;\n",
       "    }\n",
       "\n",
       "    .dataframe thead tr:last-of-type th {\n",
       "        text-align: right;\n",
       "    }\n",
       "</style>\n",
       "<table border=\"1\" class=\"dataframe\">\n",
       "  <thead>\n",
       "    <tr>\n",
       "      <th></th>\n",
       "      <th colspan=\"10\" halign=\"left\">count</th>\n",
       "    </tr>\n",
       "    <tr>\n",
       "      <th>data</th>\n",
       "      <th>items_10</th>\n",
       "      <th>items_10_orig</th>\n",
       "      <th>items_15</th>\n",
       "      <th>items_20</th>\n",
       "      <th>items_25</th>\n",
       "      <th>items_30</th>\n",
       "      <th>items_35</th>\n",
       "      <th>items_40</th>\n",
       "      <th>items_45</th>\n",
       "      <th>items_50</th>\n",
       "    </tr>\n",
       "    <tr>\n",
       "      <th>method</th>\n",
       "      <th></th>\n",
       "      <th></th>\n",
       "      <th></th>\n",
       "      <th></th>\n",
       "      <th></th>\n",
       "      <th></th>\n",
       "      <th></th>\n",
       "      <th></th>\n",
       "      <th></th>\n",
       "      <th></th>\n",
       "    </tr>\n",
       "  </thead>\n",
       "  <tbody>\n",
       "    <tr>\n",
       "      <th>comboptnet</th>\n",
       "      <td>1.0</td>\n",
       "      <td>1.0</td>\n",
       "      <td>1.0</td>\n",
       "      <td>1.0</td>\n",
       "      <td>NaN</td>\n",
       "      <td>NaN</td>\n",
       "      <td>NaN</td>\n",
       "      <td>NaN</td>\n",
       "      <td>NaN</td>\n",
       "      <td>NaN</td>\n",
       "    </tr>\n",
       "    <tr>\n",
       "      <th>ilploss</th>\n",
       "      <td>1.0</td>\n",
       "      <td>1.0</td>\n",
       "      <td>1.0</td>\n",
       "      <td>1.0</td>\n",
       "      <td>1.0</td>\n",
       "      <td>1.0</td>\n",
       "      <td>1.0</td>\n",
       "      <td>1.0</td>\n",
       "      <td>1.0</td>\n",
       "      <td>1.0</td>\n",
       "    </tr>\n",
       "  </tbody>\n",
       "</table>\n",
       "</div>"
      ],
      "text/plain": [
       "              count                                                    \\\n",
       "data       items_10 items_10_orig items_15 items_20 items_25 items_30   \n",
       "method                                                                  \n",
       "comboptnet      1.0           1.0      1.0      1.0      NaN      NaN   \n",
       "ilploss         1.0           1.0      1.0      1.0      1.0      1.0   \n",
       "\n",
       "                                                \n",
       "data       items_35 items_40 items_45 items_50  \n",
       "method                                          \n",
       "comboptnet      NaN      NaN      NaN      NaN  \n",
       "ilploss         1.0      1.0      1.0      1.0  "
      ]
     },
     "execution_count": 40,
     "metadata": {},
     "output_type": "execute_result"
    }
   ],
   "source": [
    "time_stats_pivot['seed']"
   ]
  },
  {
   "cell_type": "code",
   "execution_count": null,
   "id": "5b8d20ee",
   "metadata": {},
   "outputs": [],
   "source": []
  },
  {
   "cell_type": "code",
   "execution_count": 41,
   "id": "9db9b5b7",
   "metadata": {},
   "outputs": [],
   "source": [
    "#extract the relevant rows"
   ]
  },
  {
   "cell_type": "code",
   "execution_count": 42,
   "id": "843b1339",
   "metadata": {},
   "outputs": [
    {
     "data": {
      "text/plain": [
       "(['test_epoch_end'], [0, 1], [])"
      ]
     },
     "execution_count": 42,
     "metadata": {},
     "output_type": "execute_result"
    }
   ],
   "source": [
    "event_list, test_only_list, version_list"
   ]
  },
  {
   "cell_type": "code",
   "execution_count": 43,
   "id": "a1c30078",
   "metadata": {},
   "outputs": [
    {
     "data": {
      "text/plain": [
       "array(['val_epoch_end', 'test_epoch_end'], dtype=object)"
      ]
     },
     "execution_count": 43,
     "metadata": {},
     "output_type": "execute_result"
    }
   ],
   "source": [
    "tab[event].unique()"
   ]
  },
  {
   "cell_type": "code",
   "execution_count": 44,
   "id": "2e5002f1",
   "metadata": {},
   "outputs": [
    {
     "data": {
      "text/plain": [
       "array(['version_0', 'version_2', 'version_4'], dtype=object)"
      ]
     },
     "execution_count": 44,
     "metadata": {},
     "output_type": "execute_result"
    }
   ],
   "source": [
    "tab['ver'].unique()"
   ]
  },
  {
   "cell_type": "code",
   "execution_count": 45,
   "id": "7fa90d4b",
   "metadata": {},
   "outputs": [
    {
     "ename": "NameError",
     "evalue": "name 'test_tab' is not defined",
     "output_type": "error",
     "traceback": [
      "\u001b[0;31m---------------------------------------------------------------------------\u001b[0m",
      "\u001b[0;31mNameError\u001b[0m                                 Traceback (most recent call last)",
      "Input \u001b[0;32mIn [45]\u001b[0m, in \u001b[0;36m<cell line: 1>\u001b[0;34m()\u001b[0m\n\u001b[0;32m----> 1\u001b[0m \u001b[43mtest_tab\u001b[49m\u001b[38;5;241m.\u001b[39mshape\n",
      "\u001b[0;31mNameError\u001b[0m: name 'test_tab' is not defined"
     ]
    }
   ],
   "source": [
    "test_tab.shape"
   ]
  },
  {
   "cell_type": "code",
   "execution_count": 46,
   "id": "3a290f14",
   "metadata": {},
   "outputs": [],
   "source": [
    "test_tab = tab\n",
    "if len(event_list) > 0:\n",
    "    test_tab = test_tab[(test_tab[event].isin(event_list))]\n",
    "\n",
    "if len(test_only_list) > 0:\n",
    "    test_tab = test_tab[(test_tab['test_only'].isin(test_only_list))]\n",
    "\n",
    "if len(version_list) > 0:\n",
    "    test_tab = test_tab[(test_tab['ver'].isin(version_list))]"
   ]
  },
  {
   "cell_type": "code",
   "execution_count": 47,
   "id": "34d8967f",
   "metadata": {},
   "outputs": [],
   "source": [
    "#test_tab = tab[(tab[event].isin(event_list)) & (tab['test_only'].isin(test_only_list)) & (tab['ver'].isin(version_list))]"
   ]
  },
  {
   "cell_type": "code",
   "execution_count": null,
   "id": "1f8912de",
   "metadata": {},
   "outputs": [],
   "source": []
  },
  {
   "cell_type": "code",
   "execution_count": 48,
   "id": "c8a795b7",
   "metadata": {},
   "outputs": [],
   "source": [
    "count_bf = test_tab.groupby(grpby_keys)[grp_over[0]].count().to_frame()"
   ]
  },
  {
   "cell_type": "code",
   "execution_count": 49,
   "id": "1c42c516",
   "metadata": {},
   "outputs": [
    {
     "data": {
      "text/plain": [
       "(10, 1)"
      ]
     },
     "execution_count": 49,
     "metadata": {},
     "output_type": "execute_result"
    }
   ],
   "source": [
    "count_bf.shape"
   ]
  },
  {
   "cell_type": "code",
   "execution_count": 50,
   "id": "e231cb98",
   "metadata": {},
   "outputs": [
    {
     "data": {
      "text/html": [
       "<div>\n",
       "<style scoped>\n",
       "    .dataframe tbody tr th:only-of-type {\n",
       "        vertical-align: middle;\n",
       "    }\n",
       "\n",
       "    .dataframe tbody tr th {\n",
       "        vertical-align: top;\n",
       "    }\n",
       "\n",
       "    .dataframe thead th {\n",
       "        text-align: right;\n",
       "    }\n",
       "</style>\n",
       "<table border=\"1\" class=\"dataframe\">\n",
       "  <thead>\n",
       "    <tr style=\"text-align: right;\">\n",
       "      <th></th>\n",
       "      <th></th>\n",
       "      <th>seed</th>\n",
       "    </tr>\n",
       "    <tr>\n",
       "      <th>data</th>\n",
       "      <th>method</th>\n",
       "      <th></th>\n",
       "    </tr>\n",
       "  </thead>\n",
       "  <tbody>\n",
       "    <tr>\n",
       "      <th rowspan=\"2\" valign=\"top\">items_10</th>\n",
       "      <th>comboptnet</th>\n",
       "      <td>1</td>\n",
       "    </tr>\n",
       "    <tr>\n",
       "      <th>ilploss</th>\n",
       "      <td>1</td>\n",
       "    </tr>\n",
       "    <tr>\n",
       "      <th rowspan=\"2\" valign=\"top\">items_10_orig</th>\n",
       "      <th>comboptnet</th>\n",
       "      <td>1</td>\n",
       "    </tr>\n",
       "    <tr>\n",
       "      <th>ilploss</th>\n",
       "      <td>1</td>\n",
       "    </tr>\n",
       "    <tr>\n",
       "      <th rowspan=\"2\" valign=\"top\">items_15</th>\n",
       "      <th>comboptnet</th>\n",
       "      <td>1</td>\n",
       "    </tr>\n",
       "    <tr>\n",
       "      <th>ilploss</th>\n",
       "      <td>1</td>\n",
       "    </tr>\n",
       "    <tr>\n",
       "      <th rowspan=\"2\" valign=\"top\">items_20</th>\n",
       "      <th>comboptnet</th>\n",
       "      <td>1</td>\n",
       "    </tr>\n",
       "    <tr>\n",
       "      <th>ilploss</th>\n",
       "      <td>1</td>\n",
       "    </tr>\n",
       "    <tr>\n",
       "      <th>items_25</th>\n",
       "      <th>ilploss</th>\n",
       "      <td>1</td>\n",
       "    </tr>\n",
       "    <tr>\n",
       "      <th>items_30</th>\n",
       "      <th>ilploss</th>\n",
       "      <td>1</td>\n",
       "    </tr>\n",
       "  </tbody>\n",
       "</table>\n",
       "</div>"
      ],
      "text/plain": [
       "                          seed\n",
       "data          method          \n",
       "items_10      comboptnet     1\n",
       "              ilploss        1\n",
       "items_10_orig comboptnet     1\n",
       "              ilploss        1\n",
       "items_15      comboptnet     1\n",
       "              ilploss        1\n",
       "items_20      comboptnet     1\n",
       "              ilploss        1\n",
       "items_25      ilploss        1\n",
       "items_30      ilploss        1"
      ]
     },
     "execution_count": 50,
     "metadata": {},
     "output_type": "execute_result"
    }
   ],
   "source": [
    "count_bf"
   ]
  },
  {
   "cell_type": "code",
   "execution_count": 51,
   "id": "95c3bee8",
   "metadata": {},
   "outputs": [
    {
     "name": "stdout",
     "output_type": "stream",
     "text": [
      "Some exp. ran more than once. Please check. Picking the last one ...\n"
     ]
    }
   ],
   "source": [
    "if ((count_bf != expected_count).any().any()):\n",
    "    print('Some exp. ran more than once. Please check. Picking the last one ...')\n",
    "    "
   ]
  },
  {
   "cell_type": "code",
   "execution_count": 52,
   "id": "13c1d2d4",
   "metadata": {},
   "outputs": [],
   "source": [
    "test_tab = test_tab.groupby(grpby_keys+grp_over).tail(1)"
   ]
  },
  {
   "cell_type": "code",
   "execution_count": 53,
   "id": "20aaccf1",
   "metadata": {},
   "outputs": [],
   "source": [
    "count = test_tab.groupby(grpby_keys)[grp_over[0]].count().to_frame()"
   ]
  },
  {
   "cell_type": "code",
   "execution_count": 54,
   "id": "239440b6",
   "metadata": {},
   "outputs": [
    {
     "ename": "AssertionError",
     "evalue": "",
     "output_type": "error",
     "traceback": [
      "\u001b[0;31m---------------------------------------------------------------------------\u001b[0m",
      "\u001b[0;31mAssertionError\u001b[0m                            Traceback (most recent call last)",
      "Input \u001b[0;32mIn [54]\u001b[0m, in \u001b[0;36m<cell line: 1>\u001b[0;34m()\u001b[0m\n\u001b[0;32m----> 1\u001b[0m \u001b[38;5;28;01massert\u001b[39;00m (count \u001b[38;5;241m==\u001b[39m expected_count)\u001b[38;5;241m.\u001b[39mall()\u001b[38;5;241m.\u001b[39mall()\n",
      "\u001b[0;31mAssertionError\u001b[0m: "
     ]
    }
   ],
   "source": [
    "assert (count == expected_count).all().all()"
   ]
  },
  {
   "cell_type": "code",
   "execution_count": 55,
   "id": "d1ee4a96",
   "metadata": {},
   "outputs": [],
   "source": [
    "count.columns = pd.MultiIndex.from_product([count.columns, ['count']])"
   ]
  },
  {
   "cell_type": "code",
   "execution_count": 56,
   "id": "257cdca4",
   "metadata": {},
   "outputs": [
    {
     "data": {
      "text/plain": [
       "['net_time/train',\n",
       " 'total_time/train',\n",
       " 'total_time/val',\n",
       " 'epoch_time/test',\n",
       " 'val/acc/all',\n",
       " 'test/acc/all']"
      ]
     },
     "execution_count": 56,
     "metadata": {},
     "output_type": "execute_result"
    }
   ],
   "source": [
    "stat_cols"
   ]
  },
  {
   "cell_type": "code",
   "execution_count": 57,
   "id": "d9f1642a",
   "metadata": {},
   "outputs": [],
   "source": [
    "all_stats = test_tab.groupby(grpby_keys)[stat_cols].agg(['mean','std','min','max','median'])"
   ]
  },
  {
   "cell_type": "code",
   "execution_count": 58,
   "id": "2e51327b",
   "metadata": {},
   "outputs": [],
   "source": [
    "all_stats = pd.concat([all_stats,count])"
   ]
  },
  {
   "cell_type": "code",
   "execution_count": 59,
   "id": "edb61888",
   "metadata": {},
   "outputs": [],
   "source": [
    "#stats = all_stats.transpose().round(4)"
   ]
  },
  {
   "cell_type": "code",
   "execution_count": 60,
   "id": "87852d90",
   "metadata": {},
   "outputs": [],
   "source": [
    "#test_stats = all_stats[[test_metric]].transpose().round(4)"
   ]
  },
  {
   "cell_type": "code",
   "execution_count": 61,
   "id": "aeb30f04",
   "metadata": {},
   "outputs": [],
   "source": [
    "#pd.pivot_table(time_stats, index='method', columns=['data']).round(2)[[net_train_time,total_train_time, 'epoch']]"
   ]
  },
  {
   "cell_type": "code",
   "execution_count": 62,
   "id": "aadef23c",
   "metadata": {},
   "outputs": [],
   "source": [
    "all_stats_pivot = pd.pivot_table(all_stats, index='method', columns=['data'])"
   ]
  },
  {
   "cell_type": "code",
   "execution_count": 63,
   "id": "d32a0ab8",
   "metadata": {},
   "outputs": [
    {
     "data": {
      "text/html": [
       "<div>\n",
       "<style scoped>\n",
       "    .dataframe tbody tr th:only-of-type {\n",
       "        vertical-align: middle;\n",
       "    }\n",
       "\n",
       "    .dataframe tbody tr th {\n",
       "        vertical-align: top;\n",
       "    }\n",
       "\n",
       "    .dataframe thead th {\n",
       "        text-align: right;\n",
       "    }\n",
       "</style>\n",
       "<table border=\"1\" class=\"dataframe\">\n",
       "  <thead>\n",
       "    <tr style=\"text-align: right;\">\n",
       "      <th>data</th>\n",
       "      <th>items_10</th>\n",
       "      <th>items_10_orig</th>\n",
       "      <th>items_15</th>\n",
       "      <th>items_20</th>\n",
       "      <th>items_25</th>\n",
       "      <th>items_30</th>\n",
       "    </tr>\n",
       "    <tr>\n",
       "      <th>method</th>\n",
       "      <th></th>\n",
       "      <th></th>\n",
       "      <th></th>\n",
       "      <th></th>\n",
       "      <th></th>\n",
       "      <th></th>\n",
       "    </tr>\n",
       "  </thead>\n",
       "  <tbody>\n",
       "    <tr>\n",
       "      <th>comboptnet</th>\n",
       "      <td>62.4</td>\n",
       "      <td>64.8</td>\n",
       "      <td>46.0</td>\n",
       "      <td>27.8</td>\n",
       "      <td>nan</td>\n",
       "      <td>nan</td>\n",
       "    </tr>\n",
       "    <tr>\n",
       "      <th>ilploss</th>\n",
       "      <td>63.6</td>\n",
       "      <td>72.8</td>\n",
       "      <td>56.6</td>\n",
       "      <td>47.0</td>\n",
       "      <td>37.2</td>\n",
       "      <td>27.0</td>\n",
       "    </tr>\n",
       "  </tbody>\n",
       "</table>\n",
       "</div>"
      ],
      "text/plain": [
       "data       items_10 items_10_orig items_15 items_20 items_25 items_30\n",
       "method                                                               \n",
       "comboptnet     62.4          64.8     46.0     27.8      nan      nan\n",
       "ilploss        63.6          72.8     56.6     47.0     37.2     27.0"
      ]
     },
     "execution_count": 63,
     "metadata": {},
     "output_type": "execute_result"
    }
   ],
   "source": [
    "(100*all_stats_pivot[test_acc]['median']).round(2).astype(str)"
   ]
  },
  {
   "cell_type": "code",
   "execution_count": 64,
   "id": "f63f88bb",
   "metadata": {},
   "outputs": [
    {
     "data": {
      "text/html": [
       "<div>\n",
       "<style scoped>\n",
       "    .dataframe tbody tr th:only-of-type {\n",
       "        vertical-align: middle;\n",
       "    }\n",
       "\n",
       "    .dataframe tbody tr th {\n",
       "        vertical-align: top;\n",
       "    }\n",
       "\n",
       "    .dataframe thead th {\n",
       "        text-align: right;\n",
       "    }\n",
       "</style>\n",
       "<table border=\"1\" class=\"dataframe\">\n",
       "  <thead>\n",
       "    <tr style=\"text-align: right;\">\n",
       "      <th>data</th>\n",
       "      <th>items_10</th>\n",
       "      <th>items_10_orig</th>\n",
       "      <th>items_15</th>\n",
       "      <th>items_20</th>\n",
       "      <th>items_25</th>\n",
       "      <th>items_30</th>\n",
       "    </tr>\n",
       "    <tr>\n",
       "      <th>method</th>\n",
       "      <th></th>\n",
       "      <th></th>\n",
       "      <th></th>\n",
       "      <th></th>\n",
       "      <th></th>\n",
       "      <th></th>\n",
       "    </tr>\n",
       "  </thead>\n",
       "  <tbody>\n",
       "    <tr>\n",
       "      <th>comboptnet</th>\n",
       "      <td>62.4</td>\n",
       "      <td>64.8</td>\n",
       "      <td>46.0</td>\n",
       "      <td>27.8</td>\n",
       "      <td>nan</td>\n",
       "      <td>nan</td>\n",
       "    </tr>\n",
       "    <tr>\n",
       "      <th>ilploss</th>\n",
       "      <td>63.6</td>\n",
       "      <td>72.8</td>\n",
       "      <td>56.6</td>\n",
       "      <td>47.0</td>\n",
       "      <td>37.2</td>\n",
       "      <td>27.0</td>\n",
       "    </tr>\n",
       "  </tbody>\n",
       "</table>\n",
       "</div>"
      ],
      "text/plain": [
       "data       items_10 items_10_orig items_15 items_20 items_25 items_30\n",
       "method                                                               \n",
       "comboptnet     62.4          64.8     46.0     27.8      nan      nan\n",
       "ilploss        63.6          72.8     56.6     47.0     37.2     27.0"
      ]
     },
     "execution_count": 64,
     "metadata": {},
     "output_type": "execute_result"
    }
   ],
   "source": [
    "(100*all_stats_pivot[test_acc]['mean']).round(1).astype(str)"
   ]
  },
  {
   "cell_type": "code",
   "execution_count": null,
   "id": "cbbb00c4",
   "metadata": {},
   "outputs": [],
   "source": [
    "(100*all_stats_pivot[test_acc]['min']).round(2).astype(str) +'$\\pm$' + (100*all_stats_pivot[test_acc]['max']).round(2).astype(str)"
   ]
  },
  {
   "cell_type": "code",
   "execution_count": null,
   "id": "0c9ec2cc",
   "metadata": {},
   "outputs": [],
   "source": [
    "import math"
   ]
  },
  {
   "cell_type": "code",
   "execution_count": null,
   "id": "608de627",
   "metadata": {},
   "outputs": [],
   "source": [
    "(100*all_stats_pivot[test_acc]['mean']).round(1).astype(str) +'$\\pm$' + ((100/math.sqrt(3))*all_stats_pivot[test_acc]['std']).round(1).astype(str)"
   ]
  },
  {
   "cell_type": "code",
   "execution_count": null,
   "id": "dc9e7827",
   "metadata": {},
   "outputs": [],
   "source": [
    "time_stats_pivot[net_train_time]['mean'].round(1).astype(str) + '$\\pm$' +  (1.0/math.sqrt(3)*time_stats_pivot[net_train_time]['std']).round(1).astype(str)"
   ]
  },
  {
   "cell_type": "code",
   "execution_count": 65,
   "id": "6b6ed784",
   "metadata": {},
   "outputs": [
    {
     "data": {
      "text/html": [
       "<div>\n",
       "<style scoped>\n",
       "    .dataframe tbody tr th:only-of-type {\n",
       "        vertical-align: middle;\n",
       "    }\n",
       "\n",
       "    .dataframe tbody tr th {\n",
       "        vertical-align: top;\n",
       "    }\n",
       "\n",
       "    .dataframe thead th {\n",
       "        text-align: right;\n",
       "    }\n",
       "</style>\n",
       "<table border=\"1\" class=\"dataframe\">\n",
       "  <thead>\n",
       "    <tr style=\"text-align: right;\">\n",
       "      <th>data</th>\n",
       "      <th>items_10</th>\n",
       "      <th>items_10_orig</th>\n",
       "      <th>items_15</th>\n",
       "      <th>items_20</th>\n",
       "      <th>items_25</th>\n",
       "      <th>items_30</th>\n",
       "      <th>items_35</th>\n",
       "      <th>items_40</th>\n",
       "      <th>items_45</th>\n",
       "      <th>items_50</th>\n",
       "    </tr>\n",
       "    <tr>\n",
       "      <th>method</th>\n",
       "      <th></th>\n",
       "      <th></th>\n",
       "      <th></th>\n",
       "      <th></th>\n",
       "      <th></th>\n",
       "      <th></th>\n",
       "      <th></th>\n",
       "      <th></th>\n",
       "      <th></th>\n",
       "      <th></th>\n",
       "    </tr>\n",
       "  </thead>\n",
       "  <tbody>\n",
       "    <tr>\n",
       "      <th>comboptnet</th>\n",
       "      <td>26.4</td>\n",
       "      <td>46.3</td>\n",
       "      <td>91.4</td>\n",
       "      <td>156.2</td>\n",
       "      <td>nan</td>\n",
       "      <td>nan</td>\n",
       "      <td>nan</td>\n",
       "      <td>nan</td>\n",
       "      <td>nan</td>\n",
       "      <td>nan</td>\n",
       "    </tr>\n",
       "    <tr>\n",
       "      <th>ilploss</th>\n",
       "      <td>32.3</td>\n",
       "      <td>20.1</td>\n",
       "      <td>43.8</td>\n",
       "      <td>112.1</td>\n",
       "      <td>161.6</td>\n",
       "      <td>102.2</td>\n",
       "      <td>104.1</td>\n",
       "      <td>73.5</td>\n",
       "      <td>98.9</td>\n",
       "      <td>117.9</td>\n",
       "    </tr>\n",
       "  </tbody>\n",
       "</table>\n",
       "</div>"
      ],
      "text/plain": [
       "data       items_10 items_10_orig items_15 items_20 items_25 items_30  \\\n",
       "method                                                                  \n",
       "comboptnet     26.4          46.3     91.4    156.2      nan      nan   \n",
       "ilploss        32.3          20.1     43.8    112.1    161.6    102.2   \n",
       "\n",
       "data       items_35 items_40 items_45 items_50  \n",
       "method                                          \n",
       "comboptnet      nan      nan      nan      nan  \n",
       "ilploss       104.1     73.5     98.9    117.9  "
      ]
     },
     "execution_count": 65,
     "metadata": {},
     "output_type": "execute_result"
    }
   ],
   "source": [
    "time_stats_pivot[net_train_time]['mean'].round(1).astype(str)"
   ]
  },
  {
   "cell_type": "code",
   "execution_count": null,
   "id": "eb3be08a",
   "metadata": {},
   "outputs": [],
   "source": [
    "result = pd.concat([count.transpose(),stats,time_stats])"
   ]
  },
  {
   "cell_type": "code",
   "execution_count": null,
   "id": "be8fea5d",
   "metadata": {},
   "outputs": [],
   "source": [
    "test_result = pd.concat([count.transpose().droplevel('ver',axis=1),\n",
    "                         test_stats.droplevel('ver',axis=1),\n",
    "                         time_stats.droplevel('ver',axis=1)],axis=0)"
   ]
  },
  {
   "cell_type": "code",
   "execution_count": null,
   "id": "a6b4d63c",
   "metadata": {},
   "outputs": [],
   "source": [
    "\"\"\"\n",
    "test_result = pd.concat([count.transpose(),\n",
    "                         test_stats,\n",
    "                         time_stats],axis=0)\n",
    "                         \n",
    "\"\"\"\n"
   ]
  },
  {
   "cell_type": "code",
   "execution_count": null,
   "id": "ef83973b",
   "metadata": {},
   "outputs": [],
   "source": [
    "grpby_keys"
   ]
  },
  {
   "cell_type": "code",
   "execution_count": null,
   "id": "c4c70735",
   "metadata": {},
   "outputs": [],
   "source": [
    "test_result.transpose().groupby(grpby_keys[:-1]).tail(n=1).transpose()"
   ]
  },
  {
   "cell_type": "code",
   "execution_count": null,
   "id": "4914beb0",
   "metadata": {},
   "outputs": [],
   "source": [
    "test_result.transpose()"
   ]
  },
  {
   "cell_type": "code",
   "execution_count": null,
   "id": "8418dd22",
   "metadata": {},
   "outputs": [],
   "source": [
    "time_stats.droplevel('ver',axis=1)"
   ]
  },
  {
   "cell_type": "code",
   "execution_count": null,
   "id": "b4c4f097",
   "metadata": {},
   "outputs": [],
   "source": [
    "test_result"
   ]
  }
 ],
 "metadata": {
  "kernelspec": {
   "display_name": "Python [conda env:ilploss]",
   "language": "python",
   "name": "conda-env-ilploss-py"
  },
  "language_info": {
   "codemirror_mode": {
    "name": "ipython",
    "version": 3
   },
   "file_extension": ".py",
   "mimetype": "text/x-python",
   "name": "python",
   "nbconvert_exporter": "python",
   "pygments_lexer": "ipython3",
   "version": "3.9.12"
  }
 },
 "nbformat": 4,
 "nbformat_minor": 5
}
