{
 "cells": [
  {
   "cell_type": "code",
   "execution_count": 1,
   "id": "175ee9c0",
   "metadata": {},
   "outputs": [],
   "source": [
    "import yaml\n",
    "import os\n",
    "import glob\n",
    "import copy\n",
    "\n",
    "#base_conf_dir = '../../conf/neurips/binary_random/ilploss'\n",
    "base_conf_dir = '../../conf/neurips/dense_random_50pct/ilploss'\n"
   ]
  },
  {
   "cell_type": "code",
   "execution_count": 2,
   "id": "2aa15d7b",
   "metadata": {},
   "outputs": [],
   "source": [
    "good_sample = '1x16/0.yaml'\n",
    "with open(os.path.join(base_conf_dir,good_sample),'r') as fh:\n",
    "    good_lines = fh.readlines()"
   ]
  },
  {
   "cell_type": "code",
   "execution_count": 3,
   "id": "a87787e5",
   "metadata": {},
   "outputs": [],
   "source": [
    "ind = [i for i,l in enumerate(good_lines) if 'train: 750' in l][0]"
   ]
  },
  {
   "cell_type": "code",
   "execution_count": 4,
   "id": "549ede70",
   "metadata": {},
   "outputs": [],
   "source": [
    "to_insert = good_lines[ind:ind+1]"
   ]
  },
  {
   "cell_type": "code",
   "execution_count": 5,
   "id": "f898f307",
   "metadata": {},
   "outputs": [
    {
     "data": {
      "text/plain": [
       "['      train: 750\\n']"
      ]
     },
     "execution_count": 5,
     "metadata": {},
     "output_type": "execute_result"
    }
   ],
   "source": [
    "to_insert"
   ]
  },
  {
   "cell_type": "code",
   "execution_count": 6,
   "id": "64c4d435",
   "metadata": {},
   "outputs": [],
   "source": [
    "replace_txt = 'train: 1500'"
   ]
  },
  {
   "cell_type": "code",
   "execution_count": 7,
   "id": "76f749cd",
   "metadata": {},
   "outputs": [
    {
     "data": {
      "text/plain": [
       "['      train: 750\\n']"
      ]
     },
     "execution_count": 7,
     "metadata": {},
     "output_type": "execute_result"
    }
   ],
   "source": [
    "to_insert"
   ]
  },
  {
   "cell_type": "code",
   "execution_count": 9,
   "id": "ac43e08e",
   "metadata": {},
   "outputs": [
    {
     "name": "stdout",
     "output_type": "stream",
     "text": [
      "../../conf/neurips/dense_random_50pct/ilploss/2x16/9.yaml\n",
      "Could not find replace txt\n",
      "../../conf/neurips/dense_random_50pct/ilploss/2x16/2.yaml\n",
      "Could not find replace txt\n",
      "../../conf/neurips/dense_random_50pct/ilploss/2x16/3.yaml\n",
      "Could not find replace txt\n",
      "../../conf/neurips/dense_random_50pct/ilploss/2x16/5.yaml\n",
      "Could not find replace txt\n",
      "../../conf/neurips/dense_random_50pct/ilploss/2x16/1.yaml\n",
      "Could not find replace txt\n",
      "../../conf/neurips/dense_random_50pct/ilploss/2x16/8.yaml\n",
      "Could not find replace txt\n",
      "../../conf/neurips/dense_random_50pct/ilploss/2x16/7.yaml\n",
      "Could not find replace txt\n",
      "../../conf/neurips/dense_random_50pct/ilploss/2x16/0.yaml\n",
      "Could not find replace txt\n",
      "../../conf/neurips/dense_random_50pct/ilploss/2x16/6.yaml\n",
      "Could not find replace txt\n",
      "../../conf/neurips/dense_random_50pct/ilploss/2x16/4.yaml\n",
      "Could not find replace txt\n",
      "../../conf/neurips/dense_random_50pct/ilploss/1x16/9.yaml\n",
      "Could not find replace txt\n",
      "../../conf/neurips/dense_random_50pct/ilploss/1x16/2.yaml\n",
      "Could not find replace txt\n",
      "../../conf/neurips/dense_random_50pct/ilploss/1x16/3.yaml\n",
      "Could not find replace txt\n",
      "../../conf/neurips/dense_random_50pct/ilploss/1x16/5.yaml\n",
      "Could not find replace txt\n",
      "../../conf/neurips/dense_random_50pct/ilploss/1x16/1.yaml\n",
      "Could not find replace txt\n",
      "../../conf/neurips/dense_random_50pct/ilploss/1x16/8.yaml\n",
      "Could not find replace txt\n",
      "../../conf/neurips/dense_random_50pct/ilploss/1x16/7.yaml\n",
      "Could not find replace txt\n",
      "../../conf/neurips/dense_random_50pct/ilploss/1x16/0.yaml\n",
      "Could not find replace txt\n",
      "../../conf/neurips/dense_random_50pct/ilploss/1x16/6.yaml\n",
      "Could not find replace txt\n",
      "../../conf/neurips/dense_random_50pct/ilploss/1x16/4.yaml\n",
      "Could not find replace txt\n",
      "../../conf/neurips/dense_random_50pct/ilploss/test/2x16/9.yaml\n",
      "Could not find replace txt\n",
      "../../conf/neurips/dense_random_50pct/ilploss/test/2x16/2.yaml\n",
      "Could not find replace txt\n",
      "../../conf/neurips/dense_random_50pct/ilploss/test/2x16/3.yaml\n",
      "Could not find replace txt\n",
      "../../conf/neurips/dense_random_50pct/ilploss/test/2x16/5.yaml\n",
      "Could not find replace txt\n",
      "../../conf/neurips/dense_random_50pct/ilploss/test/2x16/1.yaml\n",
      "Could not find replace txt\n",
      "../../conf/neurips/dense_random_50pct/ilploss/test/2x16/8.yaml\n",
      "Could not find replace txt\n",
      "../../conf/neurips/dense_random_50pct/ilploss/test/2x16/7.yaml\n",
      "Could not find replace txt\n",
      "../../conf/neurips/dense_random_50pct/ilploss/test/2x16/0.yaml\n",
      "Could not find replace txt\n",
      "../../conf/neurips/dense_random_50pct/ilploss/test/2x16/6.yaml\n",
      "Could not find replace txt\n",
      "../../conf/neurips/dense_random_50pct/ilploss/test/2x16/4.yaml\n",
      "Could not find replace txt\n",
      "../../conf/neurips/dense_random_50pct/ilploss/test/1x16/9.yaml\n",
      "Could not find replace txt\n",
      "../../conf/neurips/dense_random_50pct/ilploss/test/1x16/2.yaml\n",
      "Could not find replace txt\n",
      "../../conf/neurips/dense_random_50pct/ilploss/test/1x16/3.yaml\n",
      "Could not find replace txt\n",
      "../../conf/neurips/dense_random_50pct/ilploss/test/1x16/5.yaml\n",
      "Could not find replace txt\n",
      "../../conf/neurips/dense_random_50pct/ilploss/test/1x16/1.yaml\n",
      "Could not find replace txt\n",
      "../../conf/neurips/dense_random_50pct/ilploss/test/1x16/8.yaml\n",
      "Could not find replace txt\n",
      "../../conf/neurips/dense_random_50pct/ilploss/test/1x16/7.yaml\n",
      "Could not find replace txt\n",
      "../../conf/neurips/dense_random_50pct/ilploss/test/1x16/0.yaml\n",
      "Could not find replace txt\n",
      "../../conf/neurips/dense_random_50pct/ilploss/test/1x16/6.yaml\n",
      "Could not find replace txt\n",
      "../../conf/neurips/dense_random_50pct/ilploss/test/1x16/4.yaml\n",
      "Could not find replace txt\n",
      "../../conf/neurips/dense_random_50pct/ilploss/test/4x16/9.yaml\n",
      "Could not find replace txt\n",
      "../../conf/neurips/dense_random_50pct/ilploss/test/4x16/2.yaml\n",
      "Could not find replace txt\n",
      "../../conf/neurips/dense_random_50pct/ilploss/test/4x16/3.yaml\n",
      "Could not find replace txt\n",
      "../../conf/neurips/dense_random_50pct/ilploss/test/4x16/5.yaml\n",
      "Could not find replace txt\n",
      "../../conf/neurips/dense_random_50pct/ilploss/test/4x16/1.yaml\n",
      "Could not find replace txt\n",
      "../../conf/neurips/dense_random_50pct/ilploss/test/4x16/8.yaml\n",
      "Could not find replace txt\n",
      "../../conf/neurips/dense_random_50pct/ilploss/test/4x16/7.yaml\n",
      "Could not find replace txt\n",
      "../../conf/neurips/dense_random_50pct/ilploss/test/4x16/0.yaml\n",
      "Could not find replace txt\n",
      "../../conf/neurips/dense_random_50pct/ilploss/test/4x16/6.yaml\n",
      "Could not find replace txt\n",
      "../../conf/neurips/dense_random_50pct/ilploss/test/4x16/4.yaml\n",
      "Could not find replace txt\n",
      "../../conf/neurips/dense_random_50pct/ilploss/test/8x16/9.yaml\n",
      "Could not find replace txt\n",
      "../../conf/neurips/dense_random_50pct/ilploss/test/8x16/2.yaml\n",
      "Could not find replace txt\n",
      "../../conf/neurips/dense_random_50pct/ilploss/test/8x16/3.yaml\n",
      "Could not find replace txt\n",
      "../../conf/neurips/dense_random_50pct/ilploss/test/8x16/5.yaml\n",
      "Could not find replace txt\n",
      "../../conf/neurips/dense_random_50pct/ilploss/test/8x16/1.yaml\n",
      "Could not find replace txt\n",
      "../../conf/neurips/dense_random_50pct/ilploss/test/8x16/8.yaml\n",
      "Could not find replace txt\n",
      "../../conf/neurips/dense_random_50pct/ilploss/test/8x16/7.yaml\n",
      "Could not find replace txt\n",
      "../../conf/neurips/dense_random_50pct/ilploss/test/8x16/0.yaml\n",
      "Could not find replace txt\n",
      "../../conf/neurips/dense_random_50pct/ilploss/test/8x16/6.yaml\n",
      "Could not find replace txt\n",
      "../../conf/neurips/dense_random_50pct/ilploss/test/8x16/4.yaml\n",
      "Could not find replace txt\n",
      "../../conf/neurips/dense_random_50pct/ilploss/4x16/9.yaml\n",
      "Could not find replace txt\n",
      "../../conf/neurips/dense_random_50pct/ilploss/4x16/2.yaml\n",
      "Could not find replace txt\n",
      "../../conf/neurips/dense_random_50pct/ilploss/4x16/3.yaml\n",
      "Could not find replace txt\n",
      "../../conf/neurips/dense_random_50pct/ilploss/4x16/5.yaml\n",
      "Could not find replace txt\n",
      "../../conf/neurips/dense_random_50pct/ilploss/4x16/1.yaml\n",
      "Could not find replace txt\n",
      "../../conf/neurips/dense_random_50pct/ilploss/4x16/8.yaml\n",
      "Could not find replace txt\n",
      "../../conf/neurips/dense_random_50pct/ilploss/4x16/7.yaml\n",
      "Could not find replace txt\n",
      "../../conf/neurips/dense_random_50pct/ilploss/4x16/0.yaml\n",
      "Could not find replace txt\n",
      "../../conf/neurips/dense_random_50pct/ilploss/4x16/6.yaml\n",
      "Could not find replace txt\n",
      "../../conf/neurips/dense_random_50pct/ilploss/4x16/4.yaml\n",
      "Could not find replace txt\n",
      "../../conf/neurips/dense_random_50pct/ilploss/8x16/9.yaml\n",
      "Could not find replace txt\n",
      "../../conf/neurips/dense_random_50pct/ilploss/8x16/2.yaml\n",
      "Could not find replace txt\n",
      "../../conf/neurips/dense_random_50pct/ilploss/8x16/3.yaml\n",
      "Could not find replace txt\n",
      "../../conf/neurips/dense_random_50pct/ilploss/8x16/5.yaml\n",
      "Could not find replace txt\n",
      "../../conf/neurips/dense_random_50pct/ilploss/8x16/1.yaml\n",
      "Could not find replace txt\n",
      "../../conf/neurips/dense_random_50pct/ilploss/8x16/8.yaml\n",
      "Could not find replace txt\n",
      "../../conf/neurips/dense_random_50pct/ilploss/8x16/7.yaml\n",
      "Could not find replace txt\n",
      "../../conf/neurips/dense_random_50pct/ilploss/8x16/0.yaml\n",
      "Could not find replace txt\n",
      "../../conf/neurips/dense_random_50pct/ilploss/8x16/6.yaml\n",
      "Could not find replace txt\n",
      "../../conf/neurips/dense_random_50pct/ilploss/8x16/4.yaml\n",
      "Could not find replace txt\n"
     ]
    }
   ],
   "source": [
    "for this_file in glob.glob(os.path.join(base_conf_dir,'**','*.yaml'), recursive=True):\n",
    "    print(this_file)\n",
    "    \n",
    "    with open(this_file,'r') as fh:\n",
    "        lines = fh.readlines()\n",
    "    #\n",
    "    before_ind = [i for i,l in enumerate(lines) if replace_txt in l]\n",
    "    if len(before_ind) > 0:\n",
    "        before_ind = before_ind[0]\n",
    "        lines[before_ind] = to_insert[0]\n",
    "    else:\n",
    "        print(\"Could not find replace txt\")\n",
    "        \n",
    "    for i,line in enumerate(lines):\n",
    "        if 'name: dense_random/' in line:\n",
    "            line = line.replace('name: dense_random/', 'name: dense_random_50pct/')\n",
    "            lines[i] = line\n",
    "    #\n",
    "    with open(this_file,'w') as fh:\n",
    "        fh.writelines(lines)\n",
    "    \n",
    "    "
   ]
  },
  {
   "cell_type": "code",
   "execution_count": 10,
   "id": "a6ae9445",
   "metadata": {},
   "outputs": [],
   "source": [
    "#Checking...\n",
    "for this_file in glob.glob(os.path.join(base_conf_dir,'**','*.yaml'), recursive=True):\n",
    "    #print(this_file)\n",
    "    \n",
    "    with open(this_file,'r') as fh:\n",
    "        config = yaml.safe_load(fh)\n",
    "        \n",
    "    if config['data']['init_args']['splits']['train'] != 750:\n",
    "        print(this_file, 'data size dif',config['data']['init_args']['splits']['train'])\n",
    "    \n",
    "    if 'test' in this_file:\n",
    "        desired_name = '/'.join(this_file.split('/')[-5:])[:-5].replace('test/','')\n",
    "    else:\n",
    "        desired_name = '/'.join(this_file.split('/')[-4:])[:-5]\n",
    "    if config['trainer']['logger']['init_args']['name'] != desired_name:\n",
    "        print(this_file, 'ofile doesnt match',config['trainer']['logger']['init_args']['name'])"
   ]
  },
  {
   "cell_type": "code",
   "execution_count": null,
   "id": "5d5887e6",
   "metadata": {},
   "outputs": [],
   "source": []
  },
  {
   "cell_type": "code",
   "execution_count": null,
   "id": "a28ae1b1",
   "metadata": {},
   "outputs": [],
   "source": [
    "'/'.join(this_file.split('/')[-5:])[:-5].replace('test/','')"
   ]
  },
  {
   "cell_type": "code",
   "execution_count": null,
   "id": "ed3ec0c6",
   "metadata": {},
   "outputs": [],
   "source": []
  }
 ],
 "metadata": {
  "kernelspec": {
   "display_name": "Python [conda env:ilploss]",
   "language": "python",
   "name": "conda-env-ilploss-py"
  },
  "language_info": {
   "codemirror_mode": {
    "name": "ipython",
    "version": 3
   },
   "file_extension": ".py",
   "mimetype": "text/x-python",
   "name": "python",
   "nbconvert_exporter": "python",
   "pygments_lexer": "ipython3",
   "version": "3.9.12"
  }
 },
 "nbformat": 4,
 "nbformat_minor": 5
}
