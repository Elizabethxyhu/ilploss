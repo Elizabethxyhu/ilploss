{
 "cells": [
  {
   "cell_type": "code",
   "execution_count": 1,
   "id": "8ef7efb7",
   "metadata": {},
   "outputs": [
    {
     "name": "stderr",
     "output_type": "stream",
     "text": [
      "/home/yatin/miniconda3/envs/ilploss/lib/python3.9/site-packages/tqdm/auto.py:22: TqdmWarning: IProgress not found. Please update jupyter and ipywidgets. See https://ipywidgets.readthedocs.io/en/stable/user_install.html\n",
      "  from .autonotebook import tqdm as notebook_tqdm\n"
     ]
    }
   ],
   "source": [
    "import pickle\n",
    "import torch\n",
    "import os"
   ]
  },
  {
   "cell_type": "code",
   "execution_count": null,
   "id": "c8ad9315",
   "metadata": {},
   "outputs": [],
   "source": []
  },
  {
   "cell_type": "code",
   "execution_count": 3,
   "id": "2fc2f9b9",
   "metadata": {},
   "outputs": [
    {
     "name": "stdout",
     "output_type": "stream",
     "text": [
      "/home/yatin/btech/cs1180416/btp/data\n"
     ]
    }
   ],
   "source": [
    "cd ../../data"
   ]
  },
  {
   "cell_type": "code",
   "execution_count": 4,
   "id": "fbf2311a",
   "metadata": {},
   "outputs": [
    {
     "name": "stdout",
     "output_type": "stream",
     "text": [
      "total 840M\r\n",
      "-rwxrwxrwt 1 89667 10951 190K Oct 21  2021 \u001b[0m\u001b[01;32mrandom_16x16_1k.pt\u001b[0m*\r\n",
      "-rwxrwxrwt 1 89667 10951  80K Oct 27  2021 \u001b[01;32mrandom_2x16_1k.pt\u001b[0m*\r\n",
      "-rwxrwxrwt 1 89667 10951 784K Oct 28  2021 \u001b[01;32mrandom_8x16_10k.pt\u001b[0m*\r\n",
      "-rwxrwxrwt 1 89667 10951 352K Jan  3  2022 \u001b[01;32msudoku_2x4_2805.pt\u001b[0m*\r\n",
      "drwxrwxrwt 1 89667 10951 4.0K Jan 10  2022 \u001b[30;42mmnist\u001b[0m/\r\n",
      "drwxrwxrwt 1 89667 10951 4.0K Jan 12  2022 \u001b[30;42mvis_sudoku\u001b[0m/\r\n",
      "drwxrwxrwt 1 89667 10951 4.0K Mar 31 12:46 \u001b[30;42mgraph-matching-data\u001b[0m/\r\n",
      "-rwxrwxrwt 1 89667 10951 3.3M Apr 22 17:06 \u001b[01;32msudoku_3x4_11760.pt\u001b[0m*\r\n",
      "-rwxrwxrwt 1 89667 10951  31M Apr 23 01:16 \u001b[01;32msudoku_2x2_1M.pt.backup\u001b[0m*\r\n",
      "-rwxrwxrwt 1 89667 10951 790K Apr 23 01:40 \u001b[01;32msudoku_2x3_11214.pt.backup\u001b[0m*\r\n",
      "-rwxrwxrwt 1 89667 10951 155M Apr 23 01:42 \u001b[01;32msudoku_3x3_1M_canon.pt.backup\u001b[0m*\r\n",
      "-rwxrwxrwt 1 89667 10951 790K Apr 23 01:49 \u001b[01;32msudoku_2x3_11214.pt\u001b[0m*\r\n",
      "-rwxrwxrwt 1 89667 10951 155M Apr 23 01:54 \u001b[01;32msudoku_3x3_1M_relabeled.pt\u001b[0m*\r\n",
      "-rwxrwxrwt 1 89667 10951 155M Apr 23 01:54 \u001b[01;32msudoku_3x3_1M.pt.backup\u001b[0m*\r\n",
      "lrwxrwxrwx 1 89667 10951   54 Apr 27 16:16 \u001b[40;31;01mcomboptnet-data\u001b[0m -> \u001b[40;31;01m/home/rishabh/yatin_scratch/comboptnet/comboptnet-data\u001b[0m\u001b[K\r\n",
      "-rwxrwxrwt 1 89667 10951  31M May 13 18:32 \u001b[01;32msudoku_2x2_1M.pt\u001b[0m*\r\n",
      "-rwxrwxrwt 1 89667 10951 155M May 13 18:36 \u001b[01;32msudoku_3x3_1M.pt\u001b[0m*\r\n",
      "-rwxrwxrwt 1 89667 10951 155M May 17 04:02 \u001b[01;32msudoku_3x3_1M_canon.pt\u001b[0m*\r\n",
      "drwxrwxrwt 1 89667 10951 4.0K Jul  6 15:40 \u001b[30;42mMNIST\u001b[0m/\r\n"
     ]
    }
   ],
   "source": [
    "ls -ltrh"
   ]
  },
  {
   "cell_type": "code",
   "execution_count": 27,
   "id": "6dd702ec",
   "metadata": {},
   "outputs": [],
   "source": [
    "canon = 'sudoku_3x3_1M_canon.pt'\n",
    "backup = 'sudoku_3x3_1M.pt.backup'\n",
    "original = 'sudoku_3x3_1M.pt'"
   ]
  },
  {
   "cell_type": "code",
   "execution_count": 28,
   "id": "445b107a",
   "metadata": {},
   "outputs": [],
   "source": [
    "can = torch.load(canon)"
   ]
  },
  {
   "cell_type": "code",
   "execution_count": 29,
   "id": "59e876f5",
   "metadata": {},
   "outputs": [],
   "source": [
    "back  = torch.load(backup)"
   ]
  },
  {
   "cell_type": "code",
   "execution_count": 30,
   "id": "28057db3",
   "metadata": {},
   "outputs": [],
   "source": [
    "orig = torch.load(original)"
   ]
  },
  {
   "cell_type": "code",
   "execution_count": 9,
   "id": "46a772b6",
   "metadata": {},
   "outputs": [
    {
     "data": {
      "text/plain": [
       "4"
      ]
     },
     "execution_count": 9,
     "metadata": {},
     "output_type": "execute_result"
    }
   ],
   "source": [
    "len(can)"
   ]
  },
  {
   "cell_type": "code",
   "execution_count": 31,
   "id": "a1652520",
   "metadata": {},
   "outputs": [
    {
     "data": {
      "text/plain": [
       "tensor([[1, 2, 9, 7, 3, 6, 4, 8, 5],\n",
       "        [8, 6, 7, 4, 5, 2, 9, 3, 1],\n",
       "        [3, 5, 4, 9, 1, 8, 6, 7, 2],\n",
       "        [4, 7, 8, 1, 6, 3, 2, 5, 9],\n",
       "        [6, 1, 3, 2, 9, 5, 8, 4, 7],\n",
       "        [5, 9, 2, 8, 4, 7, 1, 6, 3],\n",
       "        [2, 3, 1, 5, 8, 4, 7, 9, 6],\n",
       "        [9, 4, 6, 3, 7, 1, 5, 2, 8],\n",
       "        [7, 8, 5, 6, 2, 9, 3, 1, 4]], dtype=torch.uint8)"
      ]
     },
     "execution_count": 31,
     "metadata": {},
     "output_type": "execute_result"
    }
   ],
   "source": [
    "orig['y'][0].reshape(9,9)"
   ]
  },
  {
   "cell_type": "code",
   "execution_count": 15,
   "id": "47e9bdf5",
   "metadata": {},
   "outputs": [
    {
     "data": {
      "text/plain": [
       "tensor([[1, 2, 3, 6, 7, 5, 9, 4, 8],\n",
       "        [4, 5, 6, 9, 8, 2, 3, 7, 1],\n",
       "        [7, 8, 9, 3, 1, 4, 5, 6, 2],\n",
       "        [9, 6, 4, 1, 5, 7, 2, 8, 3],\n",
       "        [5, 1, 7, 2, 3, 8, 4, 9, 6],\n",
       "        [8, 3, 2, 4, 9, 6, 1, 5, 7],\n",
       "        [2, 7, 1, 8, 4, 9, 6, 3, 5],\n",
       "        [3, 9, 5, 7, 6, 1, 8, 2, 4],\n",
       "        [6, 4, 8, 5, 2, 3, 7, 1, 9]], dtype=torch.uint8)"
      ]
     },
     "execution_count": 15,
     "metadata": {},
     "output_type": "execute_result"
    }
   ],
   "source": [
    "can['y'][0].reshape(9,9)"
   ]
  },
  {
   "cell_type": "code",
   "execution_count": 33,
   "id": "e068a214",
   "metadata": {},
   "outputs": [
    {
     "data": {
      "text/plain": [
       "tensor([[1, 2, 3, 6, 7, 5, 9, 4, 8],\n",
       "        [4, 5, 6, 9, 8, 2, 3, 7, 1],\n",
       "        [7, 8, 9, 3, 1, 4, 5, 6, 2],\n",
       "        [9, 6, 4, 1, 5, 7, 2, 8, 3],\n",
       "        [5, 1, 7, 2, 3, 8, 4, 9, 6],\n",
       "        [8, 3, 2, 4, 9, 6, 1, 5, 7],\n",
       "        [2, 7, 1, 8, 4, 9, 6, 3, 5],\n",
       "        [3, 9, 5, 7, 6, 1, 8, 2, 4],\n",
       "        [6, 4, 8, 5, 2, 3, 7, 1, 9]], dtype=torch.uint8)"
      ]
     },
     "execution_count": 33,
     "metadata": {},
     "output_type": "execute_result"
    }
   ],
   "source": [
    "back['y'][0].reshape(9,9)"
   ]
  },
  {
   "cell_type": "code",
   "execution_count": 25,
   "id": "aaa18387",
   "metadata": {},
   "outputs": [
    {
     "data": {
      "text/plain": [
       "tensor(True)"
      ]
     },
     "execution_count": 25,
     "metadata": {},
     "output_type": "execute_result"
    }
   ],
   "source": [
    "(can['y'] == back['y']).all()"
   ]
  },
  {
   "cell_type": "code",
   "execution_count": 26,
   "id": "4a192570",
   "metadata": {},
   "outputs": [
    {
     "data": {
      "text/plain": [
       "tensor(True)"
      ]
     },
     "execution_count": 26,
     "metadata": {},
     "output_type": "execute_result"
    }
   ],
   "source": [
    "(can['x'] == back['x']).all()"
   ]
  },
  {
   "cell_type": "code",
   "execution_count": 24,
   "id": "8d172317",
   "metadata": {},
   "outputs": [
    {
     "name": "stdout",
     "output_type": "stream",
     "text": [
      "dict() -> new empty dictionary\n",
      "dict(mapping) -> new dictionary initialized from a mapping object's\n",
      "    (key, value) pairs\n",
      "dict(iterable) -> new dictionary initialized as if via:\n",
      "    d = {}\n",
      "    for k, v in iterable:\n",
      "        d[k] = v\n",
      "dict(**kwargs) -> new dictionary initialized with the name=value pairs\n",
      "    in the keyword argument list.  For example:  dict(one=1, two=2)\n"
     ]
    }
   ],
   "source": [
    "print(can['meta'].__doc__)"
   ]
  },
  {
   "cell_type": "code",
   "execution_count": 45,
   "id": "4adb4b05",
   "metadata": {},
   "outputs": [
    {
     "name": "stdout",
     "output_type": "stream",
     "text": [
      "/home/yatin/softlinks/shiva_home/data_for_output-space-inv\n"
     ]
    }
   ],
   "source": [
    "cd data_for_output-space-inv"
   ]
  },
  {
   "cell_type": "code",
   "execution_count": 51,
   "id": "0f1fdd09",
   "metadata": {},
   "outputs": [],
   "source": [
    "su_test = 'sudoku_9_all_unq_test.pkl'\n",
    "su_train = 'sudoku_9_train_e_unq_10k.pkl'\n",
    "su_val ='sudoku_9_val_e_big_unique.pkl'"
   ]
  },
  {
   "cell_type": "code",
   "execution_count": 52,
   "id": "920f7a29",
   "metadata": {},
   "outputs": [],
   "source": [
    "with open(su_test,'rb') as fh:\n",
    "    su_test = pickle.load(fh)"
   ]
  },
  {
   "cell_type": "code",
   "execution_count": 53,
   "id": "d821c1b5",
   "metadata": {},
   "outputs": [],
   "source": [
    "with open(su_train,'rb') as fh:\n",
    "    su_train = pickle.load(fh)"
   ]
  },
  {
   "cell_type": "code",
   "execution_count": 54,
   "id": "8bf6f497",
   "metadata": {},
   "outputs": [],
   "source": [
    "with open(su_val,'rb') as fh:\n",
    "    su_val = pickle.load(fh)"
   ]
  },
  {
   "cell_type": "code",
   "execution_count": 67,
   "id": "40ef8482",
   "metadata": {},
   "outputs": [
    {
     "data": {
      "text/plain": [
       "{'query': array([8, 3, 6, 0, 0, 0, 0, 4, 9, 0, 7, 0, 4, 2, 8, 0, 0, 0, 0, 5, 0, 6,\n",
       "        0, 0, 1, 0, 8, 9, 0, 0, 0, 3, 0, 5, 1, 0, 0, 0, 0, 5, 8, 0, 6, 0,\n",
       "        2, 0, 2, 0, 0, 4, 0, 7, 0, 0, 0, 9, 0, 7, 0, 0, 8, 0, 5, 4, 8, 0,\n",
       "        0, 0, 0, 0, 0, 0, 3, 0, 5, 0, 0, 9, 4, 0, 0], dtype=int8),\n",
       " 'target_set': [array([8, 3, 6, 1, 7, 5, 2, 4, 9, 1, 7, 9, 4, 2, 8, 3, 5, 6, 2, 5, 4, 6,\n",
       "         9, 3, 1, 7, 8, 9, 6, 8, 2, 3, 7, 5, 1, 4, 7, 4, 3, 5, 8, 1, 6, 9,\n",
       "         2, 5, 2, 1, 9, 4, 6, 7, 8, 3, 6, 9, 2, 7, 1, 4, 8, 3, 5, 4, 8, 7,\n",
       "         3, 5, 2, 9, 6, 1, 3, 1, 5, 8, 6, 9, 4, 2, 7], dtype=int8)],\n",
       " 'count': 1}"
      ]
     },
     "execution_count": 67,
     "metadata": {},
     "output_type": "execute_result"
    }
   ],
   "source": [
    "su_val[0]"
   ]
  },
  {
   "cell_type": "code",
   "execution_count": 57,
   "id": "2bb1c864",
   "metadata": {},
   "outputs": [],
   "source": [
    "import random"
   ]
  },
  {
   "cell_type": "code",
   "execution_count": 58,
   "id": "3d4e609c",
   "metadata": {},
   "outputs": [],
   "source": [
    "random.shuffle(su_train)"
   ]
  },
  {
   "cell_type": "code",
   "execution_count": 59,
   "id": "4573e56d",
   "metadata": {},
   "outputs": [],
   "source": [
    "random.shuffle(su_val)"
   ]
  },
  {
   "cell_type": "code",
   "execution_count": 60,
   "id": "10bfdb68",
   "metadata": {},
   "outputs": [],
   "source": [
    "random.shuffle(su_test)"
   ]
  },
  {
   "cell_type": "code",
   "execution_count": 61,
   "id": "e08955b1",
   "metadata": {},
   "outputs": [],
   "source": [
    "su_all = su_train + su_val + su_test"
   ]
  },
  {
   "cell_type": "code",
   "execution_count": 56,
   "id": "c5938ef6",
   "metadata": {},
   "outputs": [
    {
     "data": {
      "text/plain": [
       "33000"
      ]
     },
     "execution_count": 56,
     "metadata": {},
     "output_type": "execute_result"
    }
   ],
   "source": [
    "len(su_all)"
   ]
  },
  {
   "cell_type": "code",
   "execution_count": 64,
   "id": "dc68bf43",
   "metadata": {},
   "outputs": [],
   "source": [
    "with open('sudoku_9_unq_train10k_val5k_test18k.pkl','wb') as fh:\n",
    "    pickle.dump(su_all, fh)"
   ]
  },
  {
   "cell_type": "code",
   "execution_count": 63,
   "id": "7fa2251f",
   "metadata": {},
   "outputs": [
    {
     "data": {
      "text/plain": [
       "(10000, 5000, 18000)"
      ]
     },
     "execution_count": 63,
     "metadata": {},
     "output_type": "execute_result"
    }
   ],
   "source": [
    "len(su_train), len(su_val), len(su_test)"
   ]
  },
  {
   "cell_type": "code",
   "execution_count": 68,
   "id": "0bf49b72",
   "metadata": {},
   "outputs": [
    {
     "data": {
      "text/plain": [
       "'/home/yatin/softlinks/shiva_home/data_for_output-space-inv'"
      ]
     },
     "execution_count": 68,
     "metadata": {},
     "output_type": "execute_result"
    }
   ],
   "source": [
    "pwd"
   ]
  },
  {
   "cell_type": "code",
   "execution_count": 70,
   "id": "30be2ca7",
   "metadata": {},
   "outputs": [
    {
     "name": "stdout",
     "output_type": "stream",
     "text": [
      "/home/yatin/softlinks/hpchome/phd/comboptnet\n"
     ]
    }
   ],
   "source": [
    "cd hpchome/phd/comboptnet/"
   ]
  },
  {
   "cell_type": "code",
   "execution_count": 4,
   "id": "064d60af",
   "metadata": {},
   "outputs": [
    {
     "name": "stdout",
     "output_type": "stream",
     "text": [
      "/home/yatin/btech/cs1180416/btp/data/yatin_sudoku_visual_ilploss_2x3_version_8_pred_0-499\n"
     ]
    }
   ],
   "source": [
    "cd /home/yatin/softlinks/hpchome/phd/comboptnet/neurips_sudoku/data/yatin_sudoku_visual_ilploss_2x3_version_8_pred_0-499"
   ]
  },
  {
   "cell_type": "code",
   "execution_count": 108,
   "id": "02d44f4c",
   "metadata": {},
   "outputs": [
    {
     "name": "stdout",
     "output_type": "stream",
     "text": [
      "/home/yatin/btech/cs1180416/btp/runs/neurips/sudoku/symbolic/ilploss/3x3_canon/version_7/pred_0-499\n"
     ]
    }
   ],
   "source": [
    "cd /home/yatin/softlinks/hpchome/phd/comboptnet/neurips_sudoku/rishabh_runs/neurips/sudoku/symbolic/ilploss/3x3_canon/version_7/pred_0-499"
   ]
  },
  {
   "cell_type": "code",
   "execution_count": 2,
   "id": "fdeba839",
   "metadata": {},
   "outputs": [
    {
     "name": "stdout",
     "output_type": "stream",
     "text": [
      "/home/yatin/btech/cs1180416/btp/runs/neurips/sudoku/symbolic/ilploss/2x3/version_11/pred_0-499\n"
     ]
    }
   ],
   "source": [
    "cd /home/yatin/softlinks/hpchome/phd/comboptnet/neurips_sudoku/rishabh_runs/neurips/sudoku/symbolic/ilploss/2x3/version_11/pred_0-499"
   ]
  },
  {
   "cell_type": "code",
   "execution_count": 125,
   "id": "04abb0a7",
   "metadata": {},
   "outputs": [
    {
     "name": "stdout",
     "output_type": "stream",
     "text": [
      "/home/yatin/btech/cs1180416/btp/runs/neurips/sudoku/symbolic/ilploss/2x3/version_11/pred_0-499\n"
     ]
    }
   ],
   "source": [
    "cd /home/yatin/softlinks/hpchome/phd/comboptnet/neurips_sudoku/rishabh_runs/neurips/sudoku/symbolic/ilploss/2x3/version_11/pred_0-499"
   ]
  },
  {
   "cell_type": "code",
   "execution_count": 2,
   "id": "871ce0c0",
   "metadata": {},
   "outputs": [
    {
     "name": "stdout",
     "output_type": "stream",
     "text": [
      "/home/yatin/softlinks/hpcscratch/comboptnet/runs/neurips/sudoku/visual/ilploss/3x3_canon/eq_onsatnetdata/version_1/pred\n"
     ]
    }
   ],
   "source": [
    "cd /home/yatin/softlinks/hpchome/phd/comboptnet/neurips_sudoku/runs/neurips/sudoku/visual/ilploss/3x3_canon/eq_onsatnetdata/version_1/pred"
   ]
  },
  {
   "cell_type": "code",
   "execution_count": 7,
   "id": "2b18d626",
   "metadata": {},
   "outputs": [
    {
     "name": "stdout",
     "output_type": "stream",
     "text": [
      "/home/yatin/softlinks/hpcscratch/comboptnet/runs/neurips/sudoku/visual/ilploss/3x3_satnet/eq/version_0/pred\n"
     ]
    }
   ],
   "source": [
    "cd /home/yatin/hpchome/phd/combboptnet/neurips_sudoku/runs/neurips/sudoku/visual/ilploss/3x3_satnet/eq/version_0/pred"
   ]
  },
  {
   "cell_type": "code",
   "execution_count": 13,
   "id": "ec1288aa",
   "metadata": {},
   "outputs": [
    {
     "name": "stdout",
     "output_type": "stream",
     "text": [
      "/home/yatin/btech/cs1180416/btp/runs/neurips/knapsack/binary/comboptnet/items_25/seed_0/version_2/pred\n"
     ]
    }
   ],
   "source": [
    "cd /home/yatin/softlinks/hpchome/phd/comboptnet/neurips_sudoku/rishabh_runs/neurips/knapsack/binary/comboptnet/items_25/seed_0/version_2/pred"
   ]
  },
  {
   "cell_type": "code",
   "execution_count": 6,
   "id": "527e7af5",
   "metadata": {},
   "outputs": [
    {
     "name": "stdout",
     "output_type": "stream",
     "text": [
      "/home/yatin/btech/cs1180416/btp/runs/neurips/knapsack/binary/comboptnet/items_30/seed_0/version_2/pred\n"
     ]
    }
   ],
   "source": [
    "cd /home/yatin/softlinks/hpchome/phd/comboptnet/neurips_sudoku/rishabh_runs/neurips/knapsack/binary/comboptnet/items_30/seed_0/version_2/pred"
   ]
  },
  {
   "cell_type": "code",
   "execution_count": 28,
   "id": "590998c3",
   "metadata": {},
   "outputs": [
    {
     "name": "stdout",
     "output_type": "stream",
     "text": [
      "Accuracy:  0.042\n"
     ]
    }
   ],
   "source": [
    "acc = {}\n",
    "missing_task = []\n",
    "\n",
    "import numpy as np\n",
    "import tqdm\n",
    "\n",
    "for this_task in os.listdir('.'):\n",
    "    yhat_file_list = [x for x in os.listdir(this_task) if x.endswith('_yhat.npy')]\n",
    "    if len(yhat_file_list) > 0:\n",
    "        yhat = np.load(os.path.join(this_task,yhat_file_list[0]))\n",
    "        y = np.load(os.path.join(this_task,'y.npy'))\n",
    "        acc[this_task] = int((y==yhat).all())\n",
    "    else:\n",
    "        #print('missing', this_task)\n",
    "        missing_task.append(this_task)\n",
    "\n",
    "\n",
    "total_samples = len(acc) + len(missing_task)\n",
    "print(\"Accuracy: \", sum(acc.values())/total_samples)"
   ]
  },
  {
   "cell_type": "code",
   "execution_count": 29,
   "id": "2a3cd624",
   "metadata": {},
   "outputs": [
    {
     "name": "stdout",
     "output_type": "stream",
     "text": [
      "Missing count:  0\n"
     ]
    }
   ],
   "source": [
    "print(\"Missing count: \", len(missing_task))"
   ]
  },
  {
   "cell_type": "code",
   "execution_count": 30,
   "id": "3c1f133d",
   "metadata": {},
   "outputs": [
    {
     "data": {
      "text/plain": [
       "(500, 0.042)"
      ]
     },
     "execution_count": 30,
     "metadata": {},
     "output_type": "execute_result"
    }
   ],
   "source": [
    "len(acc), sum(acc.values())/len(acc)"
   ]
  },
  {
   "cell_type": "code",
   "execution_count": 31,
   "id": "a8a33505",
   "metadata": {},
   "outputs": [
    {
     "data": {
      "text/plain": [
       "21"
      ]
     },
     "execution_count": 31,
     "metadata": {},
     "output_type": "execute_result"
    }
   ],
   "source": [
    "sum(acc.values())"
   ]
  },
  {
   "cell_type": "code",
   "execution_count": 27,
   "id": "641ff6c1",
   "metadata": {},
   "outputs": [
    {
     "data": {
      "text/plain": [
       "0.044"
      ]
     },
     "execution_count": 27,
     "metadata": {},
     "output_type": "execute_result"
    }
   ],
   "source": [
    "22/500"
   ]
  },
  {
   "cell_type": "code",
   "execution_count": 11,
   "id": "de5e3cb9",
   "metadata": {},
   "outputs": [
    {
     "data": {
      "text/plain": [
       "[('661', 0),\n",
       " ('815', 0),\n",
       " ('202', 0),\n",
       " ('802', 0),\n",
       " ('86', 0),\n",
       " ('994', 0),\n",
       " ('984', 0),\n",
       " ('257', 0),\n",
       " ('558', 0),\n",
       " ('712', 0),\n",
       " ('493', 0),\n",
       " ('156', 0),\n",
       " ('282', 0),\n",
       " ('954', 0),\n",
       " ('989', 0),\n",
       " ('536', 0),\n",
       " ('112', 0)]"
      ]
     },
     "execution_count": 11,
     "metadata": {},
     "output_type": "execute_result"
    }
   ],
   "source": [
    "[(k,v) for k,v in acc.items() if v == 0]"
   ]
  },
  {
   "cell_type": "code",
   "execution_count": null,
   "id": "c3f9f6e0",
   "metadata": {},
   "outputs": [],
   "source": []
  }
 ],
 "metadata": {
  "kernelspec": {
   "display_name": "Python [conda env:ilploss]",
   "language": "python",
   "name": "conda-env-ilploss-py"
  },
  "language_info": {
   "codemirror_mode": {
    "name": "ipython",
    "version": 3
   },
   "file_extension": ".py",
   "mimetype": "text/x-python",
   "name": "python",
   "nbconvert_exporter": "python",
   "pygments_lexer": "ipython3",
   "version": "3.9.12"
  }
 },
 "nbformat": 4,
 "nbformat_minor": 5
}
