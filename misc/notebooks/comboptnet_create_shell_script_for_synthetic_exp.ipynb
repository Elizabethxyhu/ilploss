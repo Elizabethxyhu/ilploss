{
 "cells": [
  {
   "cell_type": "code",
   "execution_count": 1,
   "id": "6c73c936",
   "metadata": {},
   "outputs": [
    {
     "data": {
      "text/plain": [
       "'/home/yatin/softlinks/hpchome/phd/comboptnet/neurips_sudoku/misc/notebooks'"
      ]
     },
     "execution_count": 1,
     "metadata": {},
     "output_type": "execute_result"
    }
   ],
   "source": [
    "pwd"
   ]
  },
  {
   "cell_type": "code",
   "execution_count": 2,
   "id": "d2b1c33d",
   "metadata": {},
   "outputs": [
    {
     "name": "stdout",
     "output_type": "stream",
     "text": [
      "/home/yatin/softlinks/hpchome/phd/comboptnet/CombOptNetJAX\n"
     ]
    }
   ],
   "source": [
    "cd ../../../CombOptNetJAX"
   ]
  },
  {
   "cell_type": "code",
   "execution_count": 3,
   "id": "d114b72b",
   "metadata": {},
   "outputs": [],
   "source": [
    "import yaml\n",
    "import os\n",
    "import glob\n",
    "import copy"
   ]
  },
  {
   "cell_type": "code",
   "execution_count": 4,
   "id": "82839f73",
   "metadata": {},
   "outputs": [],
   "source": [
    "\n",
    "# base_conf_dir = 'conf/neurips/binary_random/ilploss'\n",
    "# base_run_dir = 'runs/neurips/binary_random/ilploss'\n",
    "# to_file = 'BINARY_RANDOM_CONSTRAINTS.sh'\n",
    "# to_test_file = 'BINARY_RANDOM_CONSTRAINTS_TEST.sh'\n",
    "\n",
    "base_conf_dir = 'conf/binary_random_50pct/'\n",
    "to_file = 'BINARY_RANDOM_CONSTRAINTS_50PCT_DATA.sh'\n"
   ]
  },
  {
   "cell_type": "code",
   "execution_count": 17,
   "id": "45a92480",
   "metadata": {},
   "outputs": [],
   "source": [
    "cmd = 'python main.py {} > {} 2>&1 \\n'\n"
   ]
  },
  {
   "cell_type": "code",
   "execution_count": 18,
   "id": "d96c2aec",
   "metadata": {},
   "outputs": [],
   "source": [
    "all_files = []\n",
    "for this_file in glob.glob(os.path.join(base_conf_dir,'*','*.yaml'), recursive=False):\n",
    "    all_files.append(this_file)\n"
   ]
  },
  {
   "cell_type": "code",
   "execution_count": 19,
   "id": "82572b9a",
   "metadata": {},
   "outputs": [],
   "source": [
    "all_files.sort()"
   ]
  },
  {
   "cell_type": "code",
   "execution_count": 20,
   "id": "fd162afe",
   "metadata": {},
   "outputs": [
    {
     "data": {
      "text/plain": [
       "40"
      ]
     },
     "execution_count": 20,
     "metadata": {},
     "output_type": "execute_result"
    }
   ],
   "source": [
    "len(all_files)"
   ]
  },
  {
   "cell_type": "code",
   "execution_count": 21,
   "id": "11c5c988",
   "metadata": {},
   "outputs": [
    {
     "data": {
      "text/plain": [
       "'conf/binary_random_50pct/1x16/0.yaml'"
      ]
     },
     "execution_count": 21,
     "metadata": {},
     "output_type": "execute_result"
    }
   ],
   "source": [
    "all_files[0]"
   ]
  },
  {
   "cell_type": "code",
   "execution_count": 24,
   "id": "4029a5d7",
   "metadata": {},
   "outputs": [],
   "source": [
    "all_commands = []\n",
    "for this_file in all_files:\n",
    "    this_log_file = 'logs/' + '/'.join(this_file.split('/')[1:]).replace('.yaml','.log')\n",
    "    os.makedirs(os.path.dirname(this_log_file), exist_ok=True)\n",
    "    all_commands.append(cmd.format(this_file, this_log_file))\n",
    "    "
   ]
  },
  {
   "cell_type": "code",
   "execution_count": 25,
   "id": "0a6ebbf9",
   "metadata": {},
   "outputs": [],
   "source": [
    "with open(to_file,'w') as fh:\n",
    "    print('#!/usr/bin/env bash', file = fh)\n",
    "    fh.writelines(all_commands)"
   ]
  },
  {
   "cell_type": "code",
   "execution_count": null,
   "id": "f67f0795",
   "metadata": {},
   "outputs": [],
   "source": [
    "all_test_files = []\n",
    "for this_file in glob.glob(os.path.join(base_conf_dir,'test','*','*.yaml'), recursive=False):\n",
    "    all_test_files.append(this_file)\n",
    "    "
   ]
  },
  {
   "cell_type": "code",
   "execution_count": null,
   "id": "ca8a189a",
   "metadata": {},
   "outputs": [],
   "source": [
    "all_test_files.sort()"
   ]
  },
  {
   "cell_type": "code",
   "execution_count": null,
   "id": "3b4d0a30",
   "metadata": {},
   "outputs": [],
   "source": [
    "all_test_commands = []"
   ]
  },
  {
   "cell_type": "code",
   "execution_count": null,
   "id": "40bac893",
   "metadata": {},
   "outputs": [],
   "source": [
    "for this_test_file in all_test_files:\n",
    "    info = this_test_file.split('/')[-2:]\n",
    "    info[1] = info[1][:-5]\n",
    "    model_file = os.path.join(base_run_dir,*info,'version_0','checkpoints','best.ckpt')\n",
    "    all_test_commands.append(cmd_test.format(this_test_file, model_file))"
   ]
  },
  {
   "cell_type": "code",
   "execution_count": null,
   "id": "e06d26a7",
   "metadata": {},
   "outputs": [],
   "source": [
    "all_test_commands[0]"
   ]
  },
  {
   "cell_type": "code",
   "execution_count": null,
   "id": "7011d52f",
   "metadata": {},
   "outputs": [],
   "source": [
    "with open(to_test_file,'w') as fh:\n",
    "    fh.writelines(all_test_commands)"
   ]
  },
  {
   "cell_type": "code",
   "execution_count": null,
   "id": "e8ef2dbf",
   "metadata": {},
   "outputs": [],
   "source": []
  },
  {
   "cell_type": "code",
   "execution_count": null,
   "id": "30b898cc",
   "metadata": {},
   "outputs": [],
   "source": []
  }
 ],
 "metadata": {
  "kernelspec": {
   "display_name": "Python [conda env:ilploss]",
   "language": "python",
   "name": "conda-env-ilploss-py"
  },
  "language_info": {
   "codemirror_mode": {
    "name": "ipython",
    "version": 3
   },
   "file_extension": ".py",
   "mimetype": "text/x-python",
   "name": "python",
   "nbconvert_exporter": "python",
   "pygments_lexer": "ipython3",
   "version": "3.9.12"
  }
 },
 "nbformat": 4,
 "nbformat_minor": 5
}
